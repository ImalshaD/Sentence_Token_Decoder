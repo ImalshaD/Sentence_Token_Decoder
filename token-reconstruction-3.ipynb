{
 "cells": [
  {
   "cell_type": "code",
   "execution_count": 1,
   "metadata": {
    "execution": {
     "iopub.execute_input": "2024-11-13T16:58:46.207078Z",
     "iopub.status.busy": "2024-11-13T16:58:46.206398Z",
     "iopub.status.idle": "2024-11-13T16:58:47.294742Z",
     "shell.execute_reply": "2024-11-13T16:58:47.293730Z",
     "shell.execute_reply.started": "2024-11-13T16:58:46.207033Z"
    },
    "trusted": true
   },
   "outputs": [],
   "source": [
    "import numpy as np\n",
    "import pandas as pd"
   ]
  },
  {
   "cell_type": "code",
   "execution_count": 2,
   "metadata": {
    "execution": {
     "iopub.execute_input": "2024-11-13T16:58:47.296801Z",
     "iopub.status.busy": "2024-11-13T16:58:47.296384Z",
     "iopub.status.idle": "2024-11-13T16:58:50.745025Z",
     "shell.execute_reply": "2024-11-13T16:58:50.744058Z",
     "shell.execute_reply.started": "2024-11-13T16:58:47.296766Z"
    },
    "trusted": true
   },
   "outputs": [],
   "source": [
    "import torch\n",
    "import torch.nn as nn"
   ]
  },
  {
   "cell_type": "code",
   "execution_count": 3,
   "metadata": {
    "execution": {
     "iopub.execute_input": "2024-11-13T16:58:50.747047Z",
     "iopub.status.busy": "2024-11-13T16:58:50.746525Z",
     "iopub.status.idle": "2024-11-13T16:58:52.189546Z",
     "shell.execute_reply": "2024-11-13T16:58:52.188574Z",
     "shell.execute_reply.started": "2024-11-13T16:58:50.747002Z"
    },
    "trusted": true
   },
   "outputs": [],
   "source": [
    "from transformers import AutoTokenizer, AutoModelForCausalLM"
   ]
  },
  {
   "cell_type": "code",
   "execution_count": 4,
   "metadata": {
    "execution": {
     "iopub.execute_input": "2024-11-13T16:58:52.193135Z",
     "iopub.status.busy": "2024-11-13T16:58:52.192152Z",
     "iopub.status.idle": "2024-11-13T16:58:52.843579Z",
     "shell.execute_reply": "2024-11-13T16:58:52.842769Z",
     "shell.execute_reply.started": "2024-11-13T16:58:52.193099Z"
    },
    "trusted": true
   },
   "outputs": [],
   "source": [
    "from torch.utils.data import DataLoader, TensorDataset\n",
    "from sklearn.model_selection import train_test_split"
   ]
  },
  {
   "cell_type": "code",
   "execution_count": 5,
   "metadata": {
    "execution": {
     "iopub.execute_input": "2024-11-13T16:58:52.845379Z",
     "iopub.status.busy": "2024-11-13T16:58:52.844843Z",
     "iopub.status.idle": "2024-11-13T16:58:52.849638Z",
     "shell.execute_reply": "2024-11-13T16:58:52.848736Z",
     "shell.execute_reply.started": "2024-11-13T16:58:52.845332Z"
    },
    "trusted": true
   },
   "outputs": [],
   "source": [
    "from tqdm import tqdm"
   ]
  },
  {
   "cell_type": "code",
   "execution_count": null,
   "metadata": {},
   "outputs": [],
   "source": [
    "data_dir = \"data_cache\"\n",
    "model_dir = \"model_cache\""
   ]
  },
  {
   "cell_type": "code",
   "execution_count": 6,
   "metadata": {
    "execution": {
     "iopub.execute_input": "2024-11-13T16:58:52.851082Z",
     "iopub.status.busy": "2024-11-13T16:58:52.850788Z",
     "iopub.status.idle": "2024-11-13T16:58:57.756654Z",
     "shell.execute_reply": "2024-11-13T16:58:57.755684Z",
     "shell.execute_reply.started": "2024-11-13T16:58:52.851051Z"
    },
    "trusted": true
   },
   "outputs": [],
   "source": [
    "math_df = pd.read_json(\"hf://datasets/meta-math/MetaMathQA/MetaMathQA-395K.json\")"
   ]
  },
  {
   "cell_type": "code",
   "execution_count": 7,
   "metadata": {
    "execution": {
     "iopub.execute_input": "2024-11-13T16:58:57.758041Z",
     "iopub.status.busy": "2024-11-13T16:58:57.757758Z",
     "iopub.status.idle": "2024-11-13T16:58:57.762362Z",
     "shell.execute_reply": "2024-11-13T16:58:57.761443Z",
     "shell.execute_reply.started": "2024-11-13T16:58:57.758011Z"
    },
    "trusted": true
   },
   "outputs": [],
   "source": [
    "batch_size = 512"
   ]
  },
  {
   "cell_type": "code",
   "execution_count": 8,
   "metadata": {
    "execution": {
     "iopub.execute_input": "2024-11-13T16:58:57.764243Z",
     "iopub.status.busy": "2024-11-13T16:58:57.763426Z",
     "iopub.status.idle": "2024-11-13T16:58:57.773488Z",
     "shell.execute_reply": "2024-11-13T16:58:57.772695Z",
     "shell.execute_reply.started": "2024-11-13T16:58:57.764209Z"
    },
    "trusted": true
   },
   "outputs": [],
   "source": [
    "math_train_query = math_df['query']"
   ]
  },
  {
   "cell_type": "code",
   "execution_count": 9,
   "metadata": {
    "execution": {
     "iopub.execute_input": "2024-11-13T16:58:57.774775Z",
     "iopub.status.busy": "2024-11-13T16:58:57.774447Z",
     "iopub.status.idle": "2024-11-13T16:58:57.783247Z",
     "shell.execute_reply": "2024-11-13T16:58:57.782543Z",
     "shell.execute_reply.started": "2024-11-13T16:58:57.774733Z"
    },
    "trusted": true
   },
   "outputs": [],
   "source": [
    "math_array = math_train_query.to_numpy()"
   ]
  },
  {
   "cell_type": "code",
   "execution_count": 10,
   "metadata": {
    "execution": {
     "iopub.execute_input": "2024-11-13T16:58:57.787899Z",
     "iopub.status.busy": "2024-11-13T16:58:57.787352Z",
     "iopub.status.idle": "2024-11-13T16:58:57.830764Z",
     "shell.execute_reply": "2024-11-13T16:58:57.830084Z",
     "shell.execute_reply.started": "2024-11-13T16:58:57.787867Z"
    },
    "trusted": true
   },
   "outputs": [],
   "source": [
    "math_X_train, math_X_test = train_test_split(math_array, test_size=0.2, random_state=42)"
   ]
  },
  {
   "cell_type": "code",
   "execution_count": 11,
   "metadata": {
    "execution": {
     "iopub.execute_input": "2024-11-13T16:58:57.832065Z",
     "iopub.status.busy": "2024-11-13T16:58:57.831728Z",
     "iopub.status.idle": "2024-11-13T16:58:57.837229Z",
     "shell.execute_reply": "2024-11-13T16:58:57.836337Z",
     "shell.execute_reply.started": "2024-11-13T16:58:57.832024Z"
    },
    "trusted": true
   },
   "outputs": [],
   "source": [
    "math_train_loader = DataLoader(math_X_train, batch_size=batch_size, shuffle=True)\n",
    "math_test_loader = DataLoader(math_X_test, batch_size=batch_size, shuffle=False)"
   ]
  },
  {
   "cell_type": "code",
   "execution_count": 12,
   "metadata": {
    "execution": {
     "iopub.execute_input": "2024-11-13T16:58:57.838996Z",
     "iopub.status.busy": "2024-11-13T16:58:57.838430Z",
     "iopub.status.idle": "2024-11-13T16:58:57.874869Z",
     "shell.execute_reply": "2024-11-13T16:58:57.874042Z",
     "shell.execute_reply.started": "2024-11-13T16:58:57.838953Z"
    },
    "trusted": true
   },
   "outputs": [],
   "source": [
    "device = torch.device(\"cuda\" if torch.cuda.is_available() else \"cpu\")"
   ]
  },
  {
   "cell_type": "code",
   "execution_count": null,
   "metadata": {
    "execution": {
     "iopub.execute_input": "2024-11-13T16:58:57.876258Z",
     "iopub.status.busy": "2024-11-13T16:58:57.876003Z",
     "iopub.status.idle": "2024-11-13T17:00:19.336566Z",
     "shell.execute_reply": "2024-11-13T17:00:19.335524Z",
     "shell.execute_reply.started": "2024-11-13T16:58:57.876229Z"
    },
    "trusted": true
   },
   "outputs": [
    {
     "data": {
      "application/vnd.jupyter.widget-view+json": {
       "model_id": "fbcf7872508643bf9171a41dfac0e2e2",
       "version_major": 2,
       "version_minor": 0
      },
      "text/plain": [
       "tokenizer_config.json:   0%|          | 0.00/7.32k [00:00<?, ?B/s]"
      ]
     },
     "metadata": {},
     "output_type": "display_data"
    },
    {
     "data": {
      "application/vnd.jupyter.widget-view+json": {
       "model_id": "dcf5c0766af046119cdec000f7bbdd3b",
       "version_major": 2,
       "version_minor": 0
      },
      "text/plain": [
       "vocab.json:   0%|          | 0.00/2.78M [00:00<?, ?B/s]"
      ]
     },
     "metadata": {},
     "output_type": "display_data"
    },
    {
     "data": {
      "application/vnd.jupyter.widget-view+json": {
       "model_id": "efacee9d8c634328bec028db8d0a10e8",
       "version_major": 2,
       "version_minor": 0
      },
      "text/plain": [
       "merges.txt:   0%|          | 0.00/1.67M [00:00<?, ?B/s]"
      ]
     },
     "metadata": {},
     "output_type": "display_data"
    },
    {
     "data": {
      "application/vnd.jupyter.widget-view+json": {
       "model_id": "b737763147d04c17ab401f8f6923fa53",
       "version_major": 2,
       "version_minor": 0
      },
      "text/plain": [
       "tokenizer.json:   0%|          | 0.00/7.03M [00:00<?, ?B/s]"
      ]
     },
     "metadata": {},
     "output_type": "display_data"
    },
    {
     "data": {
      "application/vnd.jupyter.widget-view+json": {
       "model_id": "40854db181a54fe5a214ca2dfc5712b1",
       "version_major": 2,
       "version_minor": 0
      },
      "text/plain": [
       "config.json:   0%|          | 0.00/656 [00:00<?, ?B/s]"
      ]
     },
     "metadata": {},
     "output_type": "display_data"
    },
    {
     "data": {
      "application/vnd.jupyter.widget-view+json": {
       "model_id": "44123f955f30491cb01c27b194a7b3fd",
       "version_major": 2,
       "version_minor": 0
      },
      "text/plain": [
       "model.safetensors:   0%|          | 0.00/3.09G [00:00<?, ?B/s]"
      ]
     },
     "metadata": {},
     "output_type": "display_data"
    },
    {
     "data": {
      "application/vnd.jupyter.widget-view+json": {
       "model_id": "b59eec60ede944868563a757788d71d7",
       "version_major": 2,
       "version_minor": 0
      },
      "text/plain": [
       "generation_config.json:   0%|          | 0.00/160 [00:00<?, ?B/s]"
      ]
     },
     "metadata": {},
     "output_type": "display_data"
    }
   ],
   "source": [
    "tokenizer = AutoTokenizer.from_pretrained(\"Qwen/Qwen2.5-Math-1.5B-Instruct\", cache_dir=model_dir)\n",
    "model = AutoModelForCausalLM.from_pretrained(\"Qwen/Qwen2.5-Math-1.5B-Instruct\", cache_dir=model_dir).to(device)"
   ]
  },
  {
   "cell_type": "code",
   "execution_count": 14,
   "metadata": {
    "execution": {
     "iopub.execute_input": "2024-11-13T17:00:19.338443Z",
     "iopub.status.busy": "2024-11-13T17:00:19.337842Z",
     "iopub.status.idle": "2024-11-13T17:00:19.343031Z",
     "shell.execute_reply": "2024-11-13T17:00:19.342052Z",
     "shell.execute_reply.started": "2024-11-13T17:00:19.338404Z"
    },
    "trusted": true
   },
   "outputs": [],
   "source": [
    "qwen_embedding_layer = model.get_input_embeddings()"
   ]
  },
  {
   "cell_type": "code",
   "execution_count": 15,
   "metadata": {
    "execution": {
     "iopub.execute_input": "2024-11-13T17:00:19.344656Z",
     "iopub.status.busy": "2024-11-13T17:00:19.344267Z",
     "iopub.status.idle": "2024-11-13T17:00:19.362582Z",
     "shell.execute_reply": "2024-11-13T17:00:19.361600Z",
     "shell.execute_reply.started": "2024-11-13T17:00:19.344603Z"
    },
    "trusted": true
   },
   "outputs": [],
   "source": [
    "# gpu_ids = [0,1]"
   ]
  },
  {
   "cell_type": "code",
   "execution_count": 16,
   "metadata": {
    "execution": {
     "iopub.execute_input": "2024-11-13T17:00:19.364023Z",
     "iopub.status.busy": "2024-11-13T17:00:19.363730Z",
     "iopub.status.idle": "2024-11-13T17:00:19.372971Z",
     "shell.execute_reply": "2024-11-13T17:00:19.372125Z",
     "shell.execute_reply.started": "2024-11-13T17:00:19.363991Z"
    },
    "trusted": true
   },
   "outputs": [],
   "source": [
    "# qwen_embedding_layer = torch.nn.DataParallel(qwen_embedding_layer, device_ids=gpu_ids)"
   ]
  },
  {
   "cell_type": "code",
   "execution_count": 17,
   "metadata": {
    "execution": {
     "iopub.execute_input": "2024-11-13T17:00:19.374493Z",
     "iopub.status.busy": "2024-11-13T17:00:19.374010Z",
     "iopub.status.idle": "2024-11-13T17:00:19.386704Z",
     "shell.execute_reply": "2024-11-13T17:00:19.385898Z",
     "shell.execute_reply.started": "2024-11-13T17:00:19.374453Z"
    },
    "trusted": true
   },
   "outputs": [],
   "source": [
    "def get_qwen_embeddings(texts):\n",
    "    template = \"<|im_start|>{text}<|im_end|>\"\n",
    "    texts = [template.format(text=text) for text in texts]\n",
    "    tokens = tokenizer(\n",
    "            texts,\n",
    "            return_tensors='pt',\n",
    "            truncation=True,\n",
    "            padding=True,\n",
    "            max_length=200\n",
    "        ).to(device)\n",
    "    with torch.no_grad():\n",
    "        embeddings = qwen_embedding_layer(tokens.input_ids)\n",
    "    return embeddings, tokens.attention_mask"
   ]
  },
  {
   "cell_type": "code",
   "execution_count": 18,
   "metadata": {
    "execution": {
     "iopub.execute_input": "2024-11-13T17:00:19.388076Z",
     "iopub.status.busy": "2024-11-13T17:00:19.387793Z",
     "iopub.status.idle": "2024-11-13T17:00:19.398587Z",
     "shell.execute_reply": "2024-11-13T17:00:19.397819Z",
     "shell.execute_reply.started": "2024-11-13T17:00:19.388046Z"
    },
    "trusted": true
   },
   "outputs": [],
   "source": [
    "class AdvancedSeqDimReducer(nn.Module):\n",
    "    def __init__(self, input_dim, target_dim, kernel_size=1):\n",
    "        super(AdvancedSeqDimReducer, self).__init__()\n",
    "        self.kernel_size = kernel_size\n",
    "        self.padding_size = (kernel_size - 1) // 2\n",
    "        \n",
    "        self.reducer = nn.Sequential(\n",
    "            nn.Conv1d(input_dim, input_dim//2, kernel_size=self.kernel_size, padding=self.padding_size),\n",
    "            nn.BatchNorm1d(input_dim//2),\n",
    "            nn.LeakyReLU(0.1),\n",
    "            # nn.Dropout(0.1),\n",
    "            \n",
    "            nn.Conv1d(input_dim//2, input_dim//4, kernel_size=self.kernel_size, padding=self.padding_size),\n",
    "            nn.BatchNorm1d(input_dim//4),\n",
    "            nn.LeakyReLU(0.1),\n",
    "            nn.Dropout(0.1),\n",
    "            \n",
    "            nn.Conv1d(input_dim//4, target_dim, kernel_size=self.kernel_size, padding=self.padding_size),\n",
    "            nn.LeakyReLU(0.1),\n",
    "        )\n",
    "    \n",
    "    def forward(self, x):\n",
    "        x = x.transpose(1, 2)\n",
    "        x = self.reducer(x)\n",
    "        return x.transpose(1, 2)"
   ]
  },
  {
   "cell_type": "code",
   "execution_count": 19,
   "metadata": {
    "execution": {
     "iopub.execute_input": "2024-11-13T17:00:19.399926Z",
     "iopub.status.busy": "2024-11-13T17:00:19.399652Z",
     "iopub.status.idle": "2024-11-13T17:00:19.413896Z",
     "shell.execute_reply": "2024-11-13T17:00:19.412897Z",
     "shell.execute_reply.started": "2024-11-13T17:00:19.399896Z"
    },
    "trusted": true
   },
   "outputs": [],
   "source": [
    "class AdvancedSeqReconstructor(nn.Module):\n",
    "    def __init__(self, compressed_dim, target_dim, kernel_size):\n",
    "        super(AdvancedSeqReconstructor, self).__init__()\n",
    "        self.kernel_size = kernel_size\n",
    "        self.padding_size = (kernel_size - 1) // 2\n",
    "        \n",
    "        self.reconstructor = nn.Sequential(\n",
    "            # First upsampling: compressed_dim → target_dim//4\n",
    "            nn.ConvTranspose1d(compressed_dim, target_dim//4, kernel_size=self.kernel_size, padding=self.padding_size),\n",
    "            nn.BatchNorm1d(target_dim//4),\n",
    "            nn.LeakyReLU(0.1),\n",
    "            nn.Dropout(0.1),\n",
    "            \n",
    "            # Second upsampling: target_dim//4 → target_dim//2\n",
    "            nn.ConvTranspose1d(target_dim//4, target_dim//2, kernel_size=self.kernel_size, padding=self.padding_size),\n",
    "            nn.BatchNorm1d(target_dim//2),\n",
    "            nn.LeakyReLU(0.1),\n",
    "            nn.Dropout(0.1),\n",
    "            \n",
    "            # Final upsampling: target_dim//2 → target_dim\n",
    "            nn.ConvTranspose1d(target_dim//2, target_dim, kernel_size=self.kernel_size, padding=self.padding_size),\n",
    "            nn.Tanh(),\n",
    "        )\n",
    "\n",
    "    def forward(self, x):\n",
    "        # Transpose for ConvTranspose1d operation\n",
    "        x = x.transpose(1, 2)  # (batch_size, compressed_dim, sequence_length)\n",
    "        \n",
    "        # Apply reconstruction\n",
    "        x = self.reconstructor(x)\n",
    "        \n",
    "        # Transpose back to original format\n",
    "        return x.transpose(1, 2)  # (batch_size, sequence_length, target_dim)"
   ]
  },
  {
   "cell_type": "code",
   "execution_count": 20,
   "metadata": {
    "execution": {
     "iopub.execute_input": "2024-11-13T17:00:19.415342Z",
     "iopub.status.busy": "2024-11-13T17:00:19.415060Z",
     "iopub.status.idle": "2024-11-13T17:00:19.427238Z",
     "shell.execute_reply": "2024-11-13T17:00:19.426389Z",
     "shell.execute_reply.started": "2024-11-13T17:00:19.415309Z"
    },
    "trusted": true
   },
   "outputs": [],
   "source": [
    "class CNNAE(nn.Module):\n",
    "    def __init__(self, input_dim,compressed_dim, target_dim, kernel_size):\n",
    "        super(CNNAE, self).__init__()\n",
    "        self.kernel_size = kernel_size\n",
    "        self.padding = (kernel_size - 1) / 2\n",
    "        self.encoder = AdvancedSeqDimReducer(input_dim,compressed_dim, kernel_size)\n",
    "        self.decoder = AdvancedSeqReconstructor(compressed_dim,target_dim, kernel_size)\n",
    "\n",
    "    def forward(self,x):\n",
    "        encoded = self.encoder(x)\n",
    "        decoded = self.decoder(encoded)\n",
    "        return decoded"
   ]
  },
  {
   "cell_type": "code",
   "execution_count": 21,
   "metadata": {
    "execution": {
     "iopub.execute_input": "2024-11-13T17:00:19.428665Z",
     "iopub.status.busy": "2024-11-13T17:00:19.428348Z",
     "iopub.status.idle": "2024-11-13T17:00:19.478785Z",
     "shell.execute_reply": "2024-11-13T17:00:19.477945Z",
     "shell.execute_reply.started": "2024-11-13T17:00:19.428630Z"
    },
    "trusted": true
   },
   "outputs": [],
   "source": [
    "amodel=CNNAE(1536,2048,1536,1)"
   ]
  },
  {
   "cell_type": "code",
   "execution_count": 22,
   "metadata": {
    "execution": {
     "iopub.execute_input": "2024-11-13T17:00:19.480763Z",
     "iopub.status.busy": "2024-11-13T17:00:19.480089Z",
     "iopub.status.idle": "2024-11-13T17:00:19.494183Z",
     "shell.execute_reply": "2024-11-13T17:00:19.493370Z",
     "shell.execute_reply.started": "2024-11-13T17:00:19.480718Z"
    },
    "trusted": true
   },
   "outputs": [
    {
     "data": {
      "text/plain": [
       "CNNAE(\n",
       "  (encoder): AdvancedSeqDimReducer(\n",
       "    (reducer): Sequential(\n",
       "      (0): Conv1d(1536, 768, kernel_size=(1,), stride=(1,))\n",
       "      (1): BatchNorm1d(768, eps=1e-05, momentum=0.1, affine=True, track_running_stats=True)\n",
       "      (2): LeakyReLU(negative_slope=0.1)\n",
       "      (3): Conv1d(768, 384, kernel_size=(1,), stride=(1,))\n",
       "      (4): BatchNorm1d(384, eps=1e-05, momentum=0.1, affine=True, track_running_stats=True)\n",
       "      (5): LeakyReLU(negative_slope=0.1)\n",
       "      (6): Dropout(p=0.1, inplace=False)\n",
       "      (7): Conv1d(384, 2048, kernel_size=(1,), stride=(1,))\n",
       "      (8): LeakyReLU(negative_slope=0.1)\n",
       "    )\n",
       "  )\n",
       "  (decoder): AdvancedSeqReconstructor(\n",
       "    (reconstructor): Sequential(\n",
       "      (0): ConvTranspose1d(2048, 384, kernel_size=(1,), stride=(1,))\n",
       "      (1): BatchNorm1d(384, eps=1e-05, momentum=0.1, affine=True, track_running_stats=True)\n",
       "      (2): LeakyReLU(negative_slope=0.1)\n",
       "      (3): Dropout(p=0.1, inplace=False)\n",
       "      (4): ConvTranspose1d(384, 768, kernel_size=(1,), stride=(1,))\n",
       "      (5): BatchNorm1d(768, eps=1e-05, momentum=0.1, affine=True, track_running_stats=True)\n",
       "      (6): LeakyReLU(negative_slope=0.1)\n",
       "      (7): Dropout(p=0.1, inplace=False)\n",
       "      (8): ConvTranspose1d(768, 1536, kernel_size=(1,), stride=(1,))\n",
       "      (9): Tanh()\n",
       "    )\n",
       "  )\n",
       ")"
      ]
     },
     "execution_count": 22,
     "metadata": {},
     "output_type": "execute_result"
    }
   ],
   "source": [
    "amodel.to(device)\n",
    "# amodel = torch.nn.DataParallel(amodel, device_ids=gpu_ids)"
   ]
  },
  {
   "cell_type": "code",
   "execution_count": 23,
   "metadata": {
    "execution": {
     "iopub.execute_input": "2024-11-13T17:00:19.496021Z",
     "iopub.status.busy": "2024-11-13T17:00:19.495735Z",
     "iopub.status.idle": "2024-11-13T17:00:19.506760Z",
     "shell.execute_reply": "2024-11-13T17:00:19.505672Z",
     "shell.execute_reply.started": "2024-11-13T17:00:19.495991Z"
    },
    "trusted": true
   },
   "outputs": [],
   "source": [
    "def train(model,train_loader, test_loader, optimizer, criterion ,epochs=10):\n",
    "    \n",
    "    best_val_loss = np.inf\n",
    "\n",
    "    for epoch in range(epochs):\n",
    "        model.train()\n",
    "        train_loss = 0\n",
    "        val_loss = 0\n",
    "        model_saved = False\n",
    "        \n",
    "\n",
    "        for batch in tqdm(train_loader, desc = f'epoch_{epoch+1}/{epochs}'):\n",
    "            \n",
    "            with torch.no_grad():\n",
    "                encoder_embedding, _ = get_qwen_embeddings(batch)\n",
    "                llm_embedding = encoder_embedding\n",
    "\n",
    "            \n",
    "            # Use AMP for mixed precision if scaler is provided\n",
    "            # with torch.amp.autocast(\"cuda\", enabled=(scaler is not None)):\n",
    "            output = model(encoder_embedding)\n",
    "            loss = criterion(output, llm_embedding)\n",
    "\n",
    "            if torch.isnan(loss) or torch.isinf(loss):\n",
    "                print(f\"Numerical instability detected in training. Skipping this batch.\")\n",
    "                continue\n",
    "\n",
    "            optimizer.zero_grad()\n",
    "            loss.backward()\n",
    "            optimizer.step()\n",
    "                \n",
    "            train_loss += loss.item() * output.size(0)\n",
    "\n",
    "        train_loss /= len(train_loader.dataset)\n",
    "        \n",
    "\n",
    "        model.eval()\n",
    "        with torch.no_grad():\n",
    "            for batch in tqdm(test_loader, desc=\"Validation :\"):\n",
    "                encoder_embedding,_ = get_qwen_embeddings(batch)\n",
    "                llm_embedding = encoder_embedding\n",
    "\n",
    "                output = model(encoder_embedding)\n",
    "                loss = criterion(output, llm_embedding)\n",
    "\n",
    "                if torch.isnan(loss) or torch.isinf(loss):\n",
    "                    print(f\"Numerical instability detected in validation. Skipping this batch.\")\n",
    "                    continue\n",
    "\n",
    "                val_loss += loss.item() * output.size(0)\n",
    "                \n",
    "            val_loss /= len(test_loader.dataset)\n",
    "            if val_loss < best_val_loss:\n",
    "                best_val_loss = val_loss\n",
    "\n",
    "        print(f\"Epoch {epoch+1}/{epochs}, Train Loss: {train_loss:.7f}, Val Loss: {val_loss:.7f}\")"
   ]
  },
  {
   "cell_type": "code",
   "execution_count": 24,
   "metadata": {
    "execution": {
     "iopub.execute_input": "2024-11-13T17:00:19.508242Z",
     "iopub.status.busy": "2024-11-13T17:00:19.507885Z",
     "iopub.status.idle": "2024-11-13T17:00:19.961703Z",
     "shell.execute_reply": "2024-11-13T17:00:19.960896Z",
     "shell.execute_reply.started": "2024-11-13T17:00:19.508201Z"
    },
    "trusted": true
   },
   "outputs": [],
   "source": [
    "optimizer = torch.optim.Adam(model.parameters(), lr=1e-3)\n",
    "criterion = torch.nn.MSELoss()"
   ]
  },
  {
   "cell_type": "code",
   "execution_count": 25,
   "metadata": {
    "execution": {
     "iopub.execute_input": "2024-11-13T17:00:19.963255Z",
     "iopub.status.busy": "2024-11-13T17:00:19.962780Z",
     "iopub.status.idle": "2024-11-13T17:01:51.884944Z",
     "shell.execute_reply": "2024-11-13T17:01:51.878134Z",
     "shell.execute_reply.started": "2024-11-13T17:00:19.963219Z"
    },
    "trusted": true
   },
   "outputs": [
    {
     "name": "stderr",
     "output_type": "stream",
     "text": [
      "epoch_1/10:  24%|██▍       | 150/618 [01:31<04:44,  1.65it/s]\n"
     ]
    },
    {
     "ename": "OutOfMemoryError",
     "evalue": "CUDA out of memory. Tried to allocate 600.00 MiB. GPU 0 has a total capacity of 15.89 GiB of which 541.12 MiB is free. Process 2791 has 15.36 GiB memory in use. Of the allocated memory 12.48 GiB is allocated by PyTorch, and 2.60 GiB is reserved by PyTorch but unallocated. If reserved but unallocated memory is large try setting PYTORCH_CUDA_ALLOC_CONF=expandable_segments:True to avoid fragmentation.  See documentation for Memory Management  (https://pytorch.org/docs/stable/notes/cuda.html#environment-variables)",
     "output_type": "error",
     "traceback": [
      "\u001b[0;31m---------------------------------------------------------------------------\u001b[0m",
      "\u001b[0;31mOutOfMemoryError\u001b[0m                          Traceback (most recent call last)",
      "Cell \u001b[0;32mIn[25], line 1\u001b[0m\n\u001b[0;32m----> 1\u001b[0m \u001b[43mtrain\u001b[49m\u001b[43m(\u001b[49m\u001b[43mamodel\u001b[49m\u001b[43m,\u001b[49m\u001b[43mmath_train_loader\u001b[49m\u001b[43m,\u001b[49m\u001b[43mmath_test_loader\u001b[49m\u001b[43m,\u001b[49m\u001b[43moptimizer\u001b[49m\u001b[43m,\u001b[49m\u001b[43mcriterion\u001b[49m\u001b[43m)\u001b[49m\n",
      "Cell \u001b[0;32mIn[23], line 29\u001b[0m, in \u001b[0;36mtrain\u001b[0;34m(model, train_loader, test_loader, optimizer, criterion, epochs)\u001b[0m\n\u001b[1;32m     26\u001b[0m     \u001b[38;5;28;01mcontinue\u001b[39;00m\n\u001b[1;32m     28\u001b[0m optimizer\u001b[38;5;241m.\u001b[39mzero_grad()\n\u001b[0;32m---> 29\u001b[0m \u001b[43mloss\u001b[49m\u001b[38;5;241;43m.\u001b[39;49m\u001b[43mbackward\u001b[49m\u001b[43m(\u001b[49m\u001b[43m)\u001b[49m\n\u001b[1;32m     30\u001b[0m optimizer\u001b[38;5;241m.\u001b[39mstep()\n\u001b[1;32m     32\u001b[0m train_loss \u001b[38;5;241m+\u001b[39m\u001b[38;5;241m=\u001b[39m loss\u001b[38;5;241m.\u001b[39mitem() \u001b[38;5;241m*\u001b[39m output\u001b[38;5;241m.\u001b[39msize(\u001b[38;5;241m0\u001b[39m)\n",
      "File \u001b[0;32m/opt/conda/lib/python3.10/site-packages/torch/_tensor.py:521\u001b[0m, in \u001b[0;36mTensor.backward\u001b[0;34m(self, gradient, retain_graph, create_graph, inputs)\u001b[0m\n\u001b[1;32m    511\u001b[0m \u001b[38;5;28;01mif\u001b[39;00m has_torch_function_unary(\u001b[38;5;28mself\u001b[39m):\n\u001b[1;32m    512\u001b[0m     \u001b[38;5;28;01mreturn\u001b[39;00m handle_torch_function(\n\u001b[1;32m    513\u001b[0m         Tensor\u001b[38;5;241m.\u001b[39mbackward,\n\u001b[1;32m    514\u001b[0m         (\u001b[38;5;28mself\u001b[39m,),\n\u001b[0;32m   (...)\u001b[0m\n\u001b[1;32m    519\u001b[0m         inputs\u001b[38;5;241m=\u001b[39minputs,\n\u001b[1;32m    520\u001b[0m     )\n\u001b[0;32m--> 521\u001b[0m \u001b[43mtorch\u001b[49m\u001b[38;5;241;43m.\u001b[39;49m\u001b[43mautograd\u001b[49m\u001b[38;5;241;43m.\u001b[39;49m\u001b[43mbackward\u001b[49m\u001b[43m(\u001b[49m\n\u001b[1;32m    522\u001b[0m \u001b[43m    \u001b[49m\u001b[38;5;28;43mself\u001b[39;49m\u001b[43m,\u001b[49m\u001b[43m \u001b[49m\u001b[43mgradient\u001b[49m\u001b[43m,\u001b[49m\u001b[43m \u001b[49m\u001b[43mretain_graph\u001b[49m\u001b[43m,\u001b[49m\u001b[43m \u001b[49m\u001b[43mcreate_graph\u001b[49m\u001b[43m,\u001b[49m\u001b[43m \u001b[49m\u001b[43minputs\u001b[49m\u001b[38;5;241;43m=\u001b[39;49m\u001b[43minputs\u001b[49m\n\u001b[1;32m    523\u001b[0m \u001b[43m\u001b[49m\u001b[43m)\u001b[49m\n",
      "File \u001b[0;32m/opt/conda/lib/python3.10/site-packages/torch/autograd/__init__.py:289\u001b[0m, in \u001b[0;36mbackward\u001b[0;34m(tensors, grad_tensors, retain_graph, create_graph, grad_variables, inputs)\u001b[0m\n\u001b[1;32m    284\u001b[0m     retain_graph \u001b[38;5;241m=\u001b[39m create_graph\n\u001b[1;32m    286\u001b[0m \u001b[38;5;66;03m# The reason we repeat the same comment below is that\u001b[39;00m\n\u001b[1;32m    287\u001b[0m \u001b[38;5;66;03m# some Python versions print out the first line of a multi-line function\u001b[39;00m\n\u001b[1;32m    288\u001b[0m \u001b[38;5;66;03m# calls in the traceback and some print out the last line\u001b[39;00m\n\u001b[0;32m--> 289\u001b[0m \u001b[43m_engine_run_backward\u001b[49m\u001b[43m(\u001b[49m\n\u001b[1;32m    290\u001b[0m \u001b[43m    \u001b[49m\u001b[43mtensors\u001b[49m\u001b[43m,\u001b[49m\n\u001b[1;32m    291\u001b[0m \u001b[43m    \u001b[49m\u001b[43mgrad_tensors_\u001b[49m\u001b[43m,\u001b[49m\n\u001b[1;32m    292\u001b[0m \u001b[43m    \u001b[49m\u001b[43mretain_graph\u001b[49m\u001b[43m,\u001b[49m\n\u001b[1;32m    293\u001b[0m \u001b[43m    \u001b[49m\u001b[43mcreate_graph\u001b[49m\u001b[43m,\u001b[49m\n\u001b[1;32m    294\u001b[0m \u001b[43m    \u001b[49m\u001b[43minputs\u001b[49m\u001b[43m,\u001b[49m\n\u001b[1;32m    295\u001b[0m \u001b[43m    \u001b[49m\u001b[43mallow_unreachable\u001b[49m\u001b[38;5;241;43m=\u001b[39;49m\u001b[38;5;28;43;01mTrue\u001b[39;49;00m\u001b[43m,\u001b[49m\n\u001b[1;32m    296\u001b[0m \u001b[43m    \u001b[49m\u001b[43maccumulate_grad\u001b[49m\u001b[38;5;241;43m=\u001b[39;49m\u001b[38;5;28;43;01mTrue\u001b[39;49;00m\u001b[43m,\u001b[49m\n\u001b[1;32m    297\u001b[0m \u001b[43m\u001b[49m\u001b[43m)\u001b[49m\n",
      "File \u001b[0;32m/opt/conda/lib/python3.10/site-packages/torch/autograd/graph.py:768\u001b[0m, in \u001b[0;36m_engine_run_backward\u001b[0;34m(t_outputs, *args, **kwargs)\u001b[0m\n\u001b[1;32m    766\u001b[0m     unregister_hooks \u001b[38;5;241m=\u001b[39m _register_logging_hooks_on_whole_graph(t_outputs)\n\u001b[1;32m    767\u001b[0m \u001b[38;5;28;01mtry\u001b[39;00m:\n\u001b[0;32m--> 768\u001b[0m     \u001b[38;5;28;01mreturn\u001b[39;00m \u001b[43mVariable\u001b[49m\u001b[38;5;241;43m.\u001b[39;49m\u001b[43m_execution_engine\u001b[49m\u001b[38;5;241;43m.\u001b[39;49m\u001b[43mrun_backward\u001b[49m\u001b[43m(\u001b[49m\u001b[43m  \u001b[49m\u001b[38;5;66;43;03m# Calls into the C++ engine to run the backward pass\u001b[39;49;00m\n\u001b[1;32m    769\u001b[0m \u001b[43m        \u001b[49m\u001b[43mt_outputs\u001b[49m\u001b[43m,\u001b[49m\u001b[43m \u001b[49m\u001b[38;5;241;43m*\u001b[39;49m\u001b[43margs\u001b[49m\u001b[43m,\u001b[49m\u001b[43m \u001b[49m\u001b[38;5;241;43m*\u001b[39;49m\u001b[38;5;241;43m*\u001b[39;49m\u001b[43mkwargs\u001b[49m\n\u001b[1;32m    770\u001b[0m \u001b[43m    \u001b[49m\u001b[43m)\u001b[49m  \u001b[38;5;66;03m# Calls into the C++ engine to run the backward pass\u001b[39;00m\n\u001b[1;32m    771\u001b[0m \u001b[38;5;28;01mfinally\u001b[39;00m:\n\u001b[1;32m    772\u001b[0m     \u001b[38;5;28;01mif\u001b[39;00m attach_logging_hooks:\n",
      "\u001b[0;31mOutOfMemoryError\u001b[0m: CUDA out of memory. Tried to allocate 600.00 MiB. GPU 0 has a total capacity of 15.89 GiB of which 541.12 MiB is free. Process 2791 has 15.36 GiB memory in use. Of the allocated memory 12.48 GiB is allocated by PyTorch, and 2.60 GiB is reserved by PyTorch but unallocated. If reserved but unallocated memory is large try setting PYTORCH_CUDA_ALLOC_CONF=expandable_segments:True to avoid fragmentation.  See documentation for Memory Management  (https://pytorch.org/docs/stable/notes/cuda.html#environment-variables)"
     ]
    }
   ],
   "source": [
    "train(amodel,math_train_loader,math_test_loader,optimizer,criterion)"
   ]
  }
 ],
 "metadata": {
  "kaggle": {
   "accelerator": "gpu",
   "dataSources": [],
   "dockerImageVersionId": 30788,
   "isGpuEnabled": true,
   "isInternetEnabled": true,
   "language": "python",
   "sourceType": "notebook"
  },
  "kernelspec": {
   "display_name": "Python 3",
   "language": "python",
   "name": "python3"
  },
  "language_info": {
   "codemirror_mode": {
    "name": "ipython",
    "version": 3
   },
   "file_extension": ".py",
   "mimetype": "text/x-python",
   "name": "python",
   "nbconvert_exporter": "python",
   "pygments_lexer": "ipython3",
   "version": "3.10.14"
  }
 },
 "nbformat": 4,
 "nbformat_minor": 4
}
