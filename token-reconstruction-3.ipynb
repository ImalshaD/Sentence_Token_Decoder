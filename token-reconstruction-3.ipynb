{
 "cells": [
  {
   "cell_type": "code",
   "execution_count": 1,
   "metadata": {
    "execution": {
     "iopub.execute_input": "2024-11-13T16:58:46.207078Z",
     "iopub.status.busy": "2024-11-13T16:58:46.206398Z",
     "iopub.status.idle": "2024-11-13T16:58:47.294742Z",
     "shell.execute_reply": "2024-11-13T16:58:47.293730Z",
     "shell.execute_reply.started": "2024-11-13T16:58:46.207033Z"
    },
    "trusted": true
   },
   "outputs": [],
   "source": [
    "import numpy as np\n",
    "import pandas as pd"
   ]
  },
  {
   "cell_type": "code",
   "execution_count": 2,
   "metadata": {
    "execution": {
     "iopub.execute_input": "2024-11-13T16:58:47.296801Z",
     "iopub.status.busy": "2024-11-13T16:58:47.296384Z",
     "iopub.status.idle": "2024-11-13T16:58:50.745025Z",
     "shell.execute_reply": "2024-11-13T16:58:50.744058Z",
     "shell.execute_reply.started": "2024-11-13T16:58:47.296766Z"
    },
    "trusted": true
   },
   "outputs": [],
   "source": [
    "import torch\n",
    "import torch.nn as nn"
   ]
  },
  {
   "cell_type": "code",
   "execution_count": 3,
   "metadata": {
    "execution": {
     "iopub.execute_input": "2024-11-13T16:58:50.747047Z",
     "iopub.status.busy": "2024-11-13T16:58:50.746525Z",
     "iopub.status.idle": "2024-11-13T16:58:52.189546Z",
     "shell.execute_reply": "2024-11-13T16:58:52.188574Z",
     "shell.execute_reply.started": "2024-11-13T16:58:50.747002Z"
    },
    "trusted": true
   },
   "outputs": [],
   "source": [
    "from transformers import AutoTokenizer, AutoModelForCausalLM"
   ]
  },
  {
   "cell_type": "code",
   "execution_count": 4,
   "metadata": {
    "execution": {
     "iopub.execute_input": "2024-11-13T16:58:52.193135Z",
     "iopub.status.busy": "2024-11-13T16:58:52.192152Z",
     "iopub.status.idle": "2024-11-13T16:58:52.843579Z",
     "shell.execute_reply": "2024-11-13T16:58:52.842769Z",
     "shell.execute_reply.started": "2024-11-13T16:58:52.193099Z"
    },
    "trusted": true
   },
   "outputs": [],
   "source": [
    "from torch.utils.data import DataLoader, TensorDataset\n",
    "from sklearn.model_selection import train_test_split"
   ]
  },
  {
   "cell_type": "code",
   "execution_count": 5,
   "metadata": {
    "execution": {
     "iopub.execute_input": "2024-11-13T16:58:52.845379Z",
     "iopub.status.busy": "2024-11-13T16:58:52.844843Z",
     "iopub.status.idle": "2024-11-13T16:58:52.849638Z",
     "shell.execute_reply": "2024-11-13T16:58:52.848736Z",
     "shell.execute_reply.started": "2024-11-13T16:58:52.845332Z"
    },
    "trusted": true
   },
   "outputs": [],
   "source": [
    "from tqdm import tqdm"
   ]
  },
  {
   "cell_type": "code",
   "execution_count": 6,
   "metadata": {},
   "outputs": [],
   "source": [
    "data_dir = \"data_cache\"\n",
    "model_dir = \"model_cache\""
   ]
  },
  {
   "cell_type": "code",
   "execution_count": 7,
   "metadata": {
    "execution": {
     "iopub.execute_input": "2024-11-13T16:58:52.851082Z",
     "iopub.status.busy": "2024-11-13T16:58:52.850788Z",
     "iopub.status.idle": "2024-11-13T16:58:57.756654Z",
     "shell.execute_reply": "2024-11-13T16:58:57.755684Z",
     "shell.execute_reply.started": "2024-11-13T16:58:52.851051Z"
    },
    "trusted": true
   },
   "outputs": [],
   "source": [
    "math_df = pd.read_json(\"hf://datasets/meta-math/MetaMathQA/MetaMathQA-395K.json\")"
   ]
  },
  {
   "cell_type": "code",
   "execution_count": 8,
   "metadata": {
    "execution": {
     "iopub.execute_input": "2024-11-13T16:58:57.758041Z",
     "iopub.status.busy": "2024-11-13T16:58:57.757758Z",
     "iopub.status.idle": "2024-11-13T16:58:57.762362Z",
     "shell.execute_reply": "2024-11-13T16:58:57.761443Z",
     "shell.execute_reply.started": "2024-11-13T16:58:57.758011Z"
    },
    "trusted": true
   },
   "outputs": [],
   "source": [
    "batch_size = 1024"
   ]
  },
  {
   "cell_type": "code",
   "execution_count": 9,
   "metadata": {
    "execution": {
     "iopub.execute_input": "2024-11-13T16:58:57.764243Z",
     "iopub.status.busy": "2024-11-13T16:58:57.763426Z",
     "iopub.status.idle": "2024-11-13T16:58:57.773488Z",
     "shell.execute_reply": "2024-11-13T16:58:57.772695Z",
     "shell.execute_reply.started": "2024-11-13T16:58:57.764209Z"
    },
    "trusted": true
   },
   "outputs": [],
   "source": [
    "math_train_query = math_df['query']"
   ]
  },
  {
   "cell_type": "code",
   "execution_count": 10,
   "metadata": {
    "execution": {
     "iopub.execute_input": "2024-11-13T16:58:57.774775Z",
     "iopub.status.busy": "2024-11-13T16:58:57.774447Z",
     "iopub.status.idle": "2024-11-13T16:58:57.783247Z",
     "shell.execute_reply": "2024-11-13T16:58:57.782543Z",
     "shell.execute_reply.started": "2024-11-13T16:58:57.774733Z"
    },
    "trusted": true
   },
   "outputs": [],
   "source": [
    "math_array = math_train_query.to_numpy()"
   ]
  },
  {
   "cell_type": "code",
   "execution_count": 11,
   "metadata": {
    "execution": {
     "iopub.execute_input": "2024-11-13T16:58:57.787899Z",
     "iopub.status.busy": "2024-11-13T16:58:57.787352Z",
     "iopub.status.idle": "2024-11-13T16:58:57.830764Z",
     "shell.execute_reply": "2024-11-13T16:58:57.830084Z",
     "shell.execute_reply.started": "2024-11-13T16:58:57.787867Z"
    },
    "trusted": true
   },
   "outputs": [],
   "source": [
    "math_X_train, math_X_test = train_test_split(math_array, test_size=0.2, random_state=42)"
   ]
  },
  {
   "cell_type": "code",
   "execution_count": 12,
   "metadata": {
    "execution": {
     "iopub.execute_input": "2024-11-13T16:58:57.832065Z",
     "iopub.status.busy": "2024-11-13T16:58:57.831728Z",
     "iopub.status.idle": "2024-11-13T16:58:57.837229Z",
     "shell.execute_reply": "2024-11-13T16:58:57.836337Z",
     "shell.execute_reply.started": "2024-11-13T16:58:57.832024Z"
    },
    "trusted": true
   },
   "outputs": [],
   "source": [
    "math_train_loader = DataLoader(math_X_train, batch_size=batch_size, shuffle=True)\n",
    "math_test_loader = DataLoader(math_X_test, batch_size=batch_size, shuffle=False)"
   ]
  },
  {
   "cell_type": "code",
   "execution_count": 13,
   "metadata": {
    "execution": {
     "iopub.execute_input": "2024-11-13T16:58:57.838996Z",
     "iopub.status.busy": "2024-11-13T16:58:57.838430Z",
     "iopub.status.idle": "2024-11-13T16:58:57.874869Z",
     "shell.execute_reply": "2024-11-13T16:58:57.874042Z",
     "shell.execute_reply.started": "2024-11-13T16:58:57.838953Z"
    },
    "trusted": true
   },
   "outputs": [],
   "source": [
    "device = torch.device(\"cuda\" if torch.cuda.is_available() else \"cpu\")"
   ]
  },
  {
   "cell_type": "code",
   "execution_count": 14,
   "metadata": {
    "execution": {
     "iopub.execute_input": "2024-11-13T16:58:57.876258Z",
     "iopub.status.busy": "2024-11-13T16:58:57.876003Z",
     "iopub.status.idle": "2024-11-13T17:00:19.336566Z",
     "shell.execute_reply": "2024-11-13T17:00:19.335524Z",
     "shell.execute_reply.started": "2024-11-13T16:58:57.876229Z"
    },
    "trusted": true
   },
   "outputs": [],
   "source": [
    "tokenizer = AutoTokenizer.from_pretrained(\"Qwen/Qwen2.5-Math-1.5B-Instruct\", cache_dir=model_dir)\n",
    "model = AutoModelForCausalLM.from_pretrained(\"Qwen/Qwen2.5-Math-1.5B-Instruct\", cache_dir=model_dir).to(device)"
   ]
  },
  {
   "cell_type": "code",
   "execution_count": 15,
   "metadata": {
    "execution": {
     "iopub.execute_input": "2024-11-13T17:00:19.338443Z",
     "iopub.status.busy": "2024-11-13T17:00:19.337842Z",
     "iopub.status.idle": "2024-11-13T17:00:19.343031Z",
     "shell.execute_reply": "2024-11-13T17:00:19.342052Z",
     "shell.execute_reply.started": "2024-11-13T17:00:19.338404Z"
    },
    "trusted": true
   },
   "outputs": [],
   "source": [
    "qwen_embedding_layer = model.get_input_embeddings()"
   ]
  },
  {
   "cell_type": "code",
   "execution_count": 16,
   "metadata": {
    "execution": {
     "iopub.execute_input": "2024-11-13T17:00:19.344656Z",
     "iopub.status.busy": "2024-11-13T17:00:19.344267Z",
     "iopub.status.idle": "2024-11-13T17:00:19.362582Z",
     "shell.execute_reply": "2024-11-13T17:00:19.361600Z",
     "shell.execute_reply.started": "2024-11-13T17:00:19.344603Z"
    },
    "trusted": true
   },
   "outputs": [],
   "source": [
    "# gpu_ids = [0,1]"
   ]
  },
  {
   "cell_type": "code",
   "execution_count": 17,
   "metadata": {
    "execution": {
     "iopub.execute_input": "2024-11-13T17:00:19.364023Z",
     "iopub.status.busy": "2024-11-13T17:00:19.363730Z",
     "iopub.status.idle": "2024-11-13T17:00:19.372971Z",
     "shell.execute_reply": "2024-11-13T17:00:19.372125Z",
     "shell.execute_reply.started": "2024-11-13T17:00:19.363991Z"
    },
    "trusted": true
   },
   "outputs": [],
   "source": [
    "# qwen_embedding_layer = torch.nn.DataParallel(qwen_embedding_layer, device_ids=gpu_ids)"
   ]
  },
  {
   "cell_type": "code",
   "execution_count": 18,
   "metadata": {
    "execution": {
     "iopub.execute_input": "2024-11-13T17:00:19.374493Z",
     "iopub.status.busy": "2024-11-13T17:00:19.374010Z",
     "iopub.status.idle": "2024-11-13T17:00:19.386704Z",
     "shell.execute_reply": "2024-11-13T17:00:19.385898Z",
     "shell.execute_reply.started": "2024-11-13T17:00:19.374453Z"
    },
    "trusted": true
   },
   "outputs": [],
   "source": [
    "def get_qwen_embeddings(texts):\n",
    "    template = \"<|im_start|>{text}<|im_end|>\"\n",
    "    texts = [template.format(text=text) for text in texts]\n",
    "    tokens = tokenizer(\n",
    "            texts,\n",
    "            return_tensors='pt',\n",
    "            truncation=True,\n",
    "            padding=True,\n",
    "            max_length=200\n",
    "        ).to(device)\n",
    "    with torch.no_grad():\n",
    "        embeddings = qwen_embedding_layer(tokens.input_ids)\n",
    "    return embeddings, tokens.attention_mask"
   ]
  },
  {
   "cell_type": "code",
   "execution_count": 19,
   "metadata": {
    "execution": {
     "iopub.execute_input": "2024-11-13T17:00:19.388076Z",
     "iopub.status.busy": "2024-11-13T17:00:19.387793Z",
     "iopub.status.idle": "2024-11-13T17:00:19.398587Z",
     "shell.execute_reply": "2024-11-13T17:00:19.397819Z",
     "shell.execute_reply.started": "2024-11-13T17:00:19.388046Z"
    },
    "trusted": true
   },
   "outputs": [],
   "source": [
    "class AdvancedSeqDimReducer(nn.Module):\n",
    "    def __init__(self, input_dim, target_dim, kernel_size=1):\n",
    "        super(AdvancedSeqDimReducer, self).__init__()\n",
    "        self.kernel_size = kernel_size\n",
    "        self.padding_size = (kernel_size - 1) // 2\n",
    "        \n",
    "        self.reducer = nn.Sequential(\n",
    "            nn.Conv1d(input_dim, input_dim//2, kernel_size=self.kernel_size, padding=self.padding_size),\n",
    "            nn.BatchNorm1d(input_dim//2),\n",
    "            nn.LeakyReLU(0.1),\n",
    "            # nn.Dropout(0.1),\n",
    "            \n",
    "            nn.Conv1d(input_dim//2, input_dim//4, kernel_size=self.kernel_size, padding=self.padding_size),\n",
    "            nn.BatchNorm1d(input_dim//4),\n",
    "            nn.LeakyReLU(0.1),\n",
    "            nn.Dropout(0.1),\n",
    "            \n",
    "            nn.Conv1d(input_dim//4, target_dim, kernel_size=self.kernel_size, padding=self.padding_size),\n",
    "            nn.LeakyReLU(0.1),\n",
    "        )\n",
    "    \n",
    "    def forward(self, x):\n",
    "        x = x.transpose(1, 2)\n",
    "        x = self.reducer(x)\n",
    "        return x.transpose(1, 2)"
   ]
  },
  {
   "cell_type": "code",
   "execution_count": 20,
   "metadata": {
    "execution": {
     "iopub.execute_input": "2024-11-13T17:00:19.399926Z",
     "iopub.status.busy": "2024-11-13T17:00:19.399652Z",
     "iopub.status.idle": "2024-11-13T17:00:19.413896Z",
     "shell.execute_reply": "2024-11-13T17:00:19.412897Z",
     "shell.execute_reply.started": "2024-11-13T17:00:19.399896Z"
    },
    "trusted": true
   },
   "outputs": [],
   "source": [
    "class AdvancedSeqReconstructor(nn.Module):\n",
    "    def __init__(self, compressed_dim, target_dim, kernel_size):\n",
    "        super(AdvancedSeqReconstructor, self).__init__()\n",
    "        self.kernel_size = kernel_size\n",
    "        self.padding_size = (kernel_size - 1) // 2\n",
    "        \n",
    "        self.reconstructor = nn.Sequential(\n",
    "            # First upsampling: compressed_dim → target_dim//4\n",
    "            nn.ConvTranspose1d(compressed_dim, target_dim//4, kernel_size=self.kernel_size, padding=self.padding_size),\n",
    "            nn.BatchNorm1d(target_dim//4),\n",
    "            nn.LeakyReLU(0.1),\n",
    "            nn.Dropout(0.1),\n",
    "            \n",
    "            # Second upsampling: target_dim//4 → target_dim//2\n",
    "            nn.ConvTranspose1d(target_dim//4, target_dim//2, kernel_size=self.kernel_size, padding=self.padding_size),\n",
    "            nn.BatchNorm1d(target_dim//2),\n",
    "            nn.LeakyReLU(0.1),\n",
    "            nn.Dropout(0.1),\n",
    "            \n",
    "            # Final upsampling: target_dim//2 → target_dim\n",
    "            nn.ConvTranspose1d(target_dim//2, target_dim, kernel_size=self.kernel_size, padding=self.padding_size),\n",
    "            nn.Tanh(),\n",
    "        )\n",
    "\n",
    "    def forward(self, x):\n",
    "        # Transpose for ConvTranspose1d operation\n",
    "        x = x.transpose(1, 2)  # (batch_size, compressed_dim, sequence_length)\n",
    "        \n",
    "        # Apply reconstruction\n",
    "        x = self.reconstructor(x)\n",
    "        \n",
    "        # Transpose back to original format\n",
    "        return x.transpose(1, 2)  # (batch_size, sequence_length, target_dim)"
   ]
  },
  {
   "cell_type": "code",
   "execution_count": 21,
   "metadata": {
    "execution": {
     "iopub.execute_input": "2024-11-13T17:00:19.415342Z",
     "iopub.status.busy": "2024-11-13T17:00:19.415060Z",
     "iopub.status.idle": "2024-11-13T17:00:19.427238Z",
     "shell.execute_reply": "2024-11-13T17:00:19.426389Z",
     "shell.execute_reply.started": "2024-11-13T17:00:19.415309Z"
    },
    "trusted": true
   },
   "outputs": [],
   "source": [
    "class CNNAE(nn.Module):\n",
    "    def __init__(self, input_dim,compressed_dim, target_dim, kernel_size):\n",
    "        super(CNNAE, self).__init__()\n",
    "        self.kernel_size = kernel_size\n",
    "        self.padding = (kernel_size - 1) / 2\n",
    "        self.encoder = AdvancedSeqDimReducer(input_dim,compressed_dim, kernel_size)\n",
    "        self.decoder = AdvancedSeqReconstructor(compressed_dim,target_dim, kernel_size)\n",
    "\n",
    "    def forward(self,x):\n",
    "        encoded = self.encoder(x)\n",
    "        decoded = self.decoder(encoded)\n",
    "        return decoded"
   ]
  },
  {
   "cell_type": "code",
   "execution_count": 22,
   "metadata": {
    "execution": {
     "iopub.execute_input": "2024-11-13T17:00:19.428665Z",
     "iopub.status.busy": "2024-11-13T17:00:19.428348Z",
     "iopub.status.idle": "2024-11-13T17:00:19.478785Z",
     "shell.execute_reply": "2024-11-13T17:00:19.477945Z",
     "shell.execute_reply.started": "2024-11-13T17:00:19.428630Z"
    },
    "trusted": true
   },
   "outputs": [],
   "source": [
    "amodel=CNNAE(1536,200,1536,1)"
   ]
  },
  {
   "cell_type": "code",
   "execution_count": 23,
   "metadata": {
    "execution": {
     "iopub.execute_input": "2024-11-13T17:00:19.480763Z",
     "iopub.status.busy": "2024-11-13T17:00:19.480089Z",
     "iopub.status.idle": "2024-11-13T17:00:19.494183Z",
     "shell.execute_reply": "2024-11-13T17:00:19.493370Z",
     "shell.execute_reply.started": "2024-11-13T17:00:19.480718Z"
    },
    "trusted": true
   },
   "outputs": [
    {
     "data": {
      "text/plain": [
       "CNNAE(\n",
       "  (encoder): AdvancedSeqDimReducer(\n",
       "    (reducer): Sequential(\n",
       "      (0): Conv1d(1536, 768, kernel_size=(1,), stride=(1,))\n",
       "      (1): BatchNorm1d(768, eps=1e-05, momentum=0.1, affine=True, track_running_stats=True)\n",
       "      (2): LeakyReLU(negative_slope=0.1)\n",
       "      (3): Conv1d(768, 384, kernel_size=(1,), stride=(1,))\n",
       "      (4): BatchNorm1d(384, eps=1e-05, momentum=0.1, affine=True, track_running_stats=True)\n",
       "      (5): LeakyReLU(negative_slope=0.1)\n",
       "      (6): Dropout(p=0.1, inplace=False)\n",
       "      (7): Conv1d(384, 200, kernel_size=(1,), stride=(1,))\n",
       "      (8): LeakyReLU(negative_slope=0.1)\n",
       "    )\n",
       "  )\n",
       "  (decoder): AdvancedSeqReconstructor(\n",
       "    (reconstructor): Sequential(\n",
       "      (0): ConvTranspose1d(200, 384, kernel_size=(1,), stride=(1,))\n",
       "      (1): BatchNorm1d(384, eps=1e-05, momentum=0.1, affine=True, track_running_stats=True)\n",
       "      (2): LeakyReLU(negative_slope=0.1)\n",
       "      (3): Dropout(p=0.1, inplace=False)\n",
       "      (4): ConvTranspose1d(384, 768, kernel_size=(1,), stride=(1,))\n",
       "      (5): BatchNorm1d(768, eps=1e-05, momentum=0.1, affine=True, track_running_stats=True)\n",
       "      (6): LeakyReLU(negative_slope=0.1)\n",
       "      (7): Dropout(p=0.1, inplace=False)\n",
       "      (8): ConvTranspose1d(768, 1536, kernel_size=(1,), stride=(1,))\n",
       "      (9): Tanh()\n",
       "    )\n",
       "  )\n",
       ")"
      ]
     },
     "execution_count": 23,
     "metadata": {},
     "output_type": "execute_result"
    }
   ],
   "source": [
    "amodel.to(device)\n",
    "# amodel = torch.nn.DataParallel(amodel, device_ids=gpu_ids)"
   ]
  },
  {
   "cell_type": "code",
   "execution_count": 24,
   "metadata": {
    "execution": {
     "iopub.execute_input": "2024-11-13T17:00:19.496021Z",
     "iopub.status.busy": "2024-11-13T17:00:19.495735Z",
     "iopub.status.idle": "2024-11-13T17:00:19.506760Z",
     "shell.execute_reply": "2024-11-13T17:00:19.505672Z",
     "shell.execute_reply.started": "2024-11-13T17:00:19.495991Z"
    },
    "trusted": true
   },
   "outputs": [],
   "source": [
    "def train(model,train_loader, test_loader, optimizer, criterion ,epochs=10):\n",
    "    \n",
    "    best_val_loss = np.inf\n",
    "\n",
    "    for epoch in range(epochs):\n",
    "        model.train()\n",
    "        train_loss = 0\n",
    "        val_loss = 0\n",
    "        model_saved = False\n",
    "        \n",
    "\n",
    "        for batch in tqdm(train_loader, desc = f'epoch_{epoch+1}/{epochs}'):\n",
    "            \n",
    "            with torch.no_grad():\n",
    "                encoder_embedding, _ = get_qwen_embeddings(batch)\n",
    "                llm_embedding = encoder_embedding\n",
    "\n",
    "            \n",
    "            # Use AMP for mixed precision if scaler is provided\n",
    "            # with torch.amp.autocast(\"cuda\", enabled=(scaler is not None)):\n",
    "            output = model(encoder_embedding)\n",
    "            loss = criterion(output, llm_embedding)\n",
    "\n",
    "            if torch.isnan(loss) or torch.isinf(loss):\n",
    "                print(f\"Numerical instability detected in training. Skipping this batch.\")\n",
    "                continue\n",
    "\n",
    "            optimizer.zero_grad()\n",
    "            loss.backward()\n",
    "            optimizer.step()\n",
    "                \n",
    "            train_loss += loss.item() * output.size(0)\n",
    "\n",
    "        train_loss /= len(train_loader.dataset)\n",
    "        \n",
    "\n",
    "        model.eval()\n",
    "        with torch.no_grad():\n",
    "            for batch in tqdm(test_loader, desc=\"Validation :\"):\n",
    "                encoder_embedding,_ = get_qwen_embeddings(batch)\n",
    "                llm_embedding = encoder_embedding\n",
    "\n",
    "                output = model(encoder_embedding)\n",
    "                loss = criterion(output, llm_embedding)\n",
    "\n",
    "                if torch.isnan(loss) or torch.isinf(loss):\n",
    "                    print(f\"Numerical instability detected in validation. Skipping this batch.\")\n",
    "                    continue\n",
    "\n",
    "                val_loss += loss.item() * output.size(0)\n",
    "                \n",
    "            val_loss /= len(test_loader.dataset)\n",
    "            if val_loss < best_val_loss:\n",
    "                best_val_loss = val_loss\n",
    "\n",
    "        print(f\"Epoch {epoch+1}/{epochs}, Train Loss: {train_loss:.7f}, Val Loss: {val_loss:.7f}\")"
   ]
  },
  {
   "cell_type": "code",
   "execution_count": 25,
   "metadata": {
    "execution": {
     "iopub.execute_input": "2024-11-13T17:00:19.508242Z",
     "iopub.status.busy": "2024-11-13T17:00:19.507885Z",
     "iopub.status.idle": "2024-11-13T17:00:19.961703Z",
     "shell.execute_reply": "2024-11-13T17:00:19.960896Z",
     "shell.execute_reply.started": "2024-11-13T17:00:19.508201Z"
    },
    "trusted": true
   },
   "outputs": [],
   "source": [
    "optimizer = torch.optim.Adam(model.parameters(), lr=1e-3)\n",
    "criterion = torch.nn.MSELoss()"
   ]
  },
  {
   "cell_type": "code",
   "execution_count": 26,
   "metadata": {
    "execution": {
     "iopub.execute_input": "2024-11-13T17:00:19.963255Z",
     "iopub.status.busy": "2024-11-13T17:00:19.962780Z",
     "iopub.status.idle": "2024-11-13T17:01:51.884944Z",
     "shell.execute_reply": "2024-11-13T17:01:51.878134Z",
     "shell.execute_reply.started": "2024-11-13T17:00:19.963219Z"
    },
    "trusted": true
   },
   "outputs": [
    {
     "name": "stderr",
     "output_type": "stream",
     "text": [
      "epoch_1/10: 100%|██████████| 309/309 [01:16<00:00,  4.05it/s]\n",
      "Validation :: 100%|██████████| 78/78 [00:13<00:00,  5.91it/s]\n"
     ]
    },
    {
     "name": "stdout",
     "output_type": "stream",
     "text": [
      "Epoch 1/10, Train Loss: 0.0647942, Val Loss: 0.0488328\n"
     ]
    },
    {
     "name": "stderr",
     "output_type": "stream",
     "text": [
      "epoch_2/10: 100%|██████████| 309/309 [01:16<00:00,  4.04it/s]\n",
      "Validation :: 100%|██████████| 78/78 [00:13<00:00,  5.91it/s]\n"
     ]
    },
    {
     "name": "stdout",
     "output_type": "stream",
     "text": [
      "Epoch 2/10, Train Loss: 0.0647937, Val Loss: 0.0486096\n"
     ]
    },
    {
     "name": "stderr",
     "output_type": "stream",
     "text": [
      "epoch_3/10:  15%|█▍        | 46/309 [00:11<01:05,  4.03it/s]\n"
     ]
    },
    {
     "ename": "KeyboardInterrupt",
     "evalue": "",
     "output_type": "error",
     "traceback": [
      "\u001b[0;31m---------------------------------------------------------------------------\u001b[0m",
      "\u001b[0;31mKeyboardInterrupt\u001b[0m                         Traceback (most recent call last)",
      "Cell \u001b[0;32mIn[26], line 1\u001b[0m\n\u001b[0;32m----> 1\u001b[0m \u001b[43mtrain\u001b[49m\u001b[43m(\u001b[49m\u001b[43mamodel\u001b[49m\u001b[43m,\u001b[49m\u001b[43mmath_train_loader\u001b[49m\u001b[43m,\u001b[49m\u001b[43mmath_test_loader\u001b[49m\u001b[43m,\u001b[49m\u001b[43moptimizer\u001b[49m\u001b[43m,\u001b[49m\u001b[43mcriterion\u001b[49m\u001b[43m)\u001b[49m\n",
      "Cell \u001b[0;32mIn[24], line 15\u001b[0m, in \u001b[0;36mtrain\u001b[0;34m(model, train_loader, test_loader, optimizer, criterion, epochs)\u001b[0m\n\u001b[1;32m     12\u001b[0m \u001b[38;5;28;01mfor\u001b[39;00m batch \u001b[38;5;129;01min\u001b[39;00m tqdm(train_loader, desc \u001b[38;5;241m=\u001b[39m \u001b[38;5;124mf\u001b[39m\u001b[38;5;124m'\u001b[39m\u001b[38;5;124mepoch_\u001b[39m\u001b[38;5;132;01m{\u001b[39;00mepoch\u001b[38;5;241m+\u001b[39m\u001b[38;5;241m1\u001b[39m\u001b[38;5;132;01m}\u001b[39;00m\u001b[38;5;124m/\u001b[39m\u001b[38;5;132;01m{\u001b[39;00mepochs\u001b[38;5;132;01m}\u001b[39;00m\u001b[38;5;124m'\u001b[39m):\n\u001b[1;32m     14\u001b[0m     \u001b[38;5;28;01mwith\u001b[39;00m torch\u001b[38;5;241m.\u001b[39mno_grad():\n\u001b[0;32m---> 15\u001b[0m         encoder_embedding, _ \u001b[38;5;241m=\u001b[39m \u001b[43mget_qwen_embeddings\u001b[49m\u001b[43m(\u001b[49m\u001b[43mbatch\u001b[49m\u001b[43m)\u001b[49m\n\u001b[1;32m     16\u001b[0m         llm_embedding \u001b[38;5;241m=\u001b[39m encoder_embedding\n\u001b[1;32m     19\u001b[0m     \u001b[38;5;66;03m# Use AMP for mixed precision if scaler is provided\u001b[39;00m\n\u001b[1;32m     20\u001b[0m     \u001b[38;5;66;03m# with torch.amp.autocast(\"cuda\", enabled=(scaler is not None)):\u001b[39;00m\n",
      "Cell \u001b[0;32mIn[18], line 4\u001b[0m, in \u001b[0;36mget_qwen_embeddings\u001b[0;34m(texts)\u001b[0m\n\u001b[1;32m      2\u001b[0m template \u001b[38;5;241m=\u001b[39m \u001b[38;5;124m\"\u001b[39m\u001b[38;5;124m<|im_start|>\u001b[39m\u001b[38;5;132;01m{text}\u001b[39;00m\u001b[38;5;124m<|im_end|>\u001b[39m\u001b[38;5;124m\"\u001b[39m\n\u001b[1;32m      3\u001b[0m texts \u001b[38;5;241m=\u001b[39m [template\u001b[38;5;241m.\u001b[39mformat(text\u001b[38;5;241m=\u001b[39mtext) \u001b[38;5;28;01mfor\u001b[39;00m text \u001b[38;5;129;01min\u001b[39;00m texts]\n\u001b[0;32m----> 4\u001b[0m tokens \u001b[38;5;241m=\u001b[39m \u001b[43mtokenizer\u001b[49m\u001b[43m(\u001b[49m\n\u001b[1;32m      5\u001b[0m \u001b[43m        \u001b[49m\u001b[43mtexts\u001b[49m\u001b[43m,\u001b[49m\n\u001b[1;32m      6\u001b[0m \u001b[43m        \u001b[49m\u001b[43mreturn_tensors\u001b[49m\u001b[38;5;241;43m=\u001b[39;49m\u001b[38;5;124;43m'\u001b[39;49m\u001b[38;5;124;43mpt\u001b[39;49m\u001b[38;5;124;43m'\u001b[39;49m\u001b[43m,\u001b[49m\n\u001b[1;32m      7\u001b[0m \u001b[43m        \u001b[49m\u001b[43mtruncation\u001b[49m\u001b[38;5;241;43m=\u001b[39;49m\u001b[38;5;28;43;01mTrue\u001b[39;49;00m\u001b[43m,\u001b[49m\n\u001b[1;32m      8\u001b[0m \u001b[43m        \u001b[49m\u001b[43mpadding\u001b[49m\u001b[38;5;241;43m=\u001b[39;49m\u001b[38;5;28;43;01mTrue\u001b[39;49;00m\u001b[43m,\u001b[49m\n\u001b[1;32m      9\u001b[0m \u001b[43m        \u001b[49m\u001b[43mmax_length\u001b[49m\u001b[38;5;241;43m=\u001b[39;49m\u001b[38;5;241;43m200\u001b[39;49m\n\u001b[1;32m     10\u001b[0m \u001b[43m    \u001b[49m\u001b[43m)\u001b[49m\u001b[38;5;241m.\u001b[39mto(device)\n\u001b[1;32m     11\u001b[0m \u001b[38;5;28;01mwith\u001b[39;00m torch\u001b[38;5;241m.\u001b[39mno_grad():\n\u001b[1;32m     12\u001b[0m     embeddings \u001b[38;5;241m=\u001b[39m qwen_embedding_layer(tokens\u001b[38;5;241m.\u001b[39minput_ids)\n",
      "File \u001b[0;32m~/fyp/Sentence_Token_Decoder/.venv/lib/python3.10/site-packages/transformers/tokenization_utils_base.py:3016\u001b[0m, in \u001b[0;36mPreTrainedTokenizerBase.__call__\u001b[0;34m(self, text, text_pair, text_target, text_pair_target, add_special_tokens, padding, truncation, max_length, stride, is_split_into_words, pad_to_multiple_of, padding_side, return_tensors, return_token_type_ids, return_attention_mask, return_overflowing_tokens, return_special_tokens_mask, return_offsets_mapping, return_length, verbose, **kwargs)\u001b[0m\n\u001b[1;32m   3014\u001b[0m     \u001b[38;5;28;01mif\u001b[39;00m \u001b[38;5;129;01mnot\u001b[39;00m \u001b[38;5;28mself\u001b[39m\u001b[38;5;241m.\u001b[39m_in_target_context_manager:\n\u001b[1;32m   3015\u001b[0m         \u001b[38;5;28mself\u001b[39m\u001b[38;5;241m.\u001b[39m_switch_to_input_mode()\n\u001b[0;32m-> 3016\u001b[0m     encodings \u001b[38;5;241m=\u001b[39m \u001b[38;5;28;43mself\u001b[39;49m\u001b[38;5;241;43m.\u001b[39;49m\u001b[43m_call_one\u001b[49m\u001b[43m(\u001b[49m\u001b[43mtext\u001b[49m\u001b[38;5;241;43m=\u001b[39;49m\u001b[43mtext\u001b[49m\u001b[43m,\u001b[49m\u001b[43m \u001b[49m\u001b[43mtext_pair\u001b[49m\u001b[38;5;241;43m=\u001b[39;49m\u001b[43mtext_pair\u001b[49m\u001b[43m,\u001b[49m\u001b[43m \u001b[49m\u001b[38;5;241;43m*\u001b[39;49m\u001b[38;5;241;43m*\u001b[39;49m\u001b[43mall_kwargs\u001b[49m\u001b[43m)\u001b[49m\n\u001b[1;32m   3017\u001b[0m \u001b[38;5;28;01mif\u001b[39;00m text_target \u001b[38;5;129;01mis\u001b[39;00m \u001b[38;5;129;01mnot\u001b[39;00m \u001b[38;5;28;01mNone\u001b[39;00m:\n\u001b[1;32m   3018\u001b[0m     \u001b[38;5;28mself\u001b[39m\u001b[38;5;241m.\u001b[39m_switch_to_target_mode()\n",
      "File \u001b[0;32m~/fyp/Sentence_Token_Decoder/.venv/lib/python3.10/site-packages/transformers/tokenization_utils_base.py:3104\u001b[0m, in \u001b[0;36mPreTrainedTokenizerBase._call_one\u001b[0;34m(self, text, text_pair, add_special_tokens, padding, truncation, max_length, stride, is_split_into_words, pad_to_multiple_of, padding_side, return_tensors, return_token_type_ids, return_attention_mask, return_overflowing_tokens, return_special_tokens_mask, return_offsets_mapping, return_length, verbose, split_special_tokens, **kwargs)\u001b[0m\n\u001b[1;32m   3099\u001b[0m         \u001b[38;5;28;01mraise\u001b[39;00m \u001b[38;5;167;01mValueError\u001b[39;00m(\n\u001b[1;32m   3100\u001b[0m             \u001b[38;5;124mf\u001b[39m\u001b[38;5;124m\"\u001b[39m\u001b[38;5;124mbatch length of `text`: \u001b[39m\u001b[38;5;132;01m{\u001b[39;00m\u001b[38;5;28mlen\u001b[39m(text)\u001b[38;5;132;01m}\u001b[39;00m\u001b[38;5;124m does not match batch length of `text_pair`:\u001b[39m\u001b[38;5;124m\"\u001b[39m\n\u001b[1;32m   3101\u001b[0m             \u001b[38;5;124mf\u001b[39m\u001b[38;5;124m\"\u001b[39m\u001b[38;5;124m \u001b[39m\u001b[38;5;132;01m{\u001b[39;00m\u001b[38;5;28mlen\u001b[39m(text_pair)\u001b[38;5;132;01m}\u001b[39;00m\u001b[38;5;124m.\u001b[39m\u001b[38;5;124m\"\u001b[39m\n\u001b[1;32m   3102\u001b[0m         )\n\u001b[1;32m   3103\u001b[0m     batch_text_or_text_pairs \u001b[38;5;241m=\u001b[39m \u001b[38;5;28mlist\u001b[39m(\u001b[38;5;28mzip\u001b[39m(text, text_pair)) \u001b[38;5;28;01mif\u001b[39;00m text_pair \u001b[38;5;129;01mis\u001b[39;00m \u001b[38;5;129;01mnot\u001b[39;00m \u001b[38;5;28;01mNone\u001b[39;00m \u001b[38;5;28;01melse\u001b[39;00m text\n\u001b[0;32m-> 3104\u001b[0m     \u001b[38;5;28;01mreturn\u001b[39;00m \u001b[38;5;28;43mself\u001b[39;49m\u001b[38;5;241;43m.\u001b[39;49m\u001b[43mbatch_encode_plus\u001b[49m\u001b[43m(\u001b[49m\n\u001b[1;32m   3105\u001b[0m \u001b[43m        \u001b[49m\u001b[43mbatch_text_or_text_pairs\u001b[49m\u001b[38;5;241;43m=\u001b[39;49m\u001b[43mbatch_text_or_text_pairs\u001b[49m\u001b[43m,\u001b[49m\n\u001b[1;32m   3106\u001b[0m \u001b[43m        \u001b[49m\u001b[43madd_special_tokens\u001b[49m\u001b[38;5;241;43m=\u001b[39;49m\u001b[43madd_special_tokens\u001b[49m\u001b[43m,\u001b[49m\n\u001b[1;32m   3107\u001b[0m \u001b[43m        \u001b[49m\u001b[43mpadding\u001b[49m\u001b[38;5;241;43m=\u001b[39;49m\u001b[43mpadding\u001b[49m\u001b[43m,\u001b[49m\n\u001b[1;32m   3108\u001b[0m \u001b[43m        \u001b[49m\u001b[43mtruncation\u001b[49m\u001b[38;5;241;43m=\u001b[39;49m\u001b[43mtruncation\u001b[49m\u001b[43m,\u001b[49m\n\u001b[1;32m   3109\u001b[0m \u001b[43m        \u001b[49m\u001b[43mmax_length\u001b[49m\u001b[38;5;241;43m=\u001b[39;49m\u001b[43mmax_length\u001b[49m\u001b[43m,\u001b[49m\n\u001b[1;32m   3110\u001b[0m \u001b[43m        \u001b[49m\u001b[43mstride\u001b[49m\u001b[38;5;241;43m=\u001b[39;49m\u001b[43mstride\u001b[49m\u001b[43m,\u001b[49m\n\u001b[1;32m   3111\u001b[0m \u001b[43m        \u001b[49m\u001b[43mis_split_into_words\u001b[49m\u001b[38;5;241;43m=\u001b[39;49m\u001b[43mis_split_into_words\u001b[49m\u001b[43m,\u001b[49m\n\u001b[1;32m   3112\u001b[0m \u001b[43m        \u001b[49m\u001b[43mpad_to_multiple_of\u001b[49m\u001b[38;5;241;43m=\u001b[39;49m\u001b[43mpad_to_multiple_of\u001b[49m\u001b[43m,\u001b[49m\n\u001b[1;32m   3113\u001b[0m \u001b[43m        \u001b[49m\u001b[43mpadding_side\u001b[49m\u001b[38;5;241;43m=\u001b[39;49m\u001b[43mpadding_side\u001b[49m\u001b[43m,\u001b[49m\n\u001b[1;32m   3114\u001b[0m \u001b[43m        \u001b[49m\u001b[43mreturn_tensors\u001b[49m\u001b[38;5;241;43m=\u001b[39;49m\u001b[43mreturn_tensors\u001b[49m\u001b[43m,\u001b[49m\n\u001b[1;32m   3115\u001b[0m \u001b[43m        \u001b[49m\u001b[43mreturn_token_type_ids\u001b[49m\u001b[38;5;241;43m=\u001b[39;49m\u001b[43mreturn_token_type_ids\u001b[49m\u001b[43m,\u001b[49m\n\u001b[1;32m   3116\u001b[0m \u001b[43m        \u001b[49m\u001b[43mreturn_attention_mask\u001b[49m\u001b[38;5;241;43m=\u001b[39;49m\u001b[43mreturn_attention_mask\u001b[49m\u001b[43m,\u001b[49m\n\u001b[1;32m   3117\u001b[0m \u001b[43m        \u001b[49m\u001b[43mreturn_overflowing_tokens\u001b[49m\u001b[38;5;241;43m=\u001b[39;49m\u001b[43mreturn_overflowing_tokens\u001b[49m\u001b[43m,\u001b[49m\n\u001b[1;32m   3118\u001b[0m \u001b[43m        \u001b[49m\u001b[43mreturn_special_tokens_mask\u001b[49m\u001b[38;5;241;43m=\u001b[39;49m\u001b[43mreturn_special_tokens_mask\u001b[49m\u001b[43m,\u001b[49m\n\u001b[1;32m   3119\u001b[0m \u001b[43m        \u001b[49m\u001b[43mreturn_offsets_mapping\u001b[49m\u001b[38;5;241;43m=\u001b[39;49m\u001b[43mreturn_offsets_mapping\u001b[49m\u001b[43m,\u001b[49m\n\u001b[1;32m   3120\u001b[0m \u001b[43m        \u001b[49m\u001b[43mreturn_length\u001b[49m\u001b[38;5;241;43m=\u001b[39;49m\u001b[43mreturn_length\u001b[49m\u001b[43m,\u001b[49m\n\u001b[1;32m   3121\u001b[0m \u001b[43m        \u001b[49m\u001b[43mverbose\u001b[49m\u001b[38;5;241;43m=\u001b[39;49m\u001b[43mverbose\u001b[49m\u001b[43m,\u001b[49m\n\u001b[1;32m   3122\u001b[0m \u001b[43m        \u001b[49m\u001b[43msplit_special_tokens\u001b[49m\u001b[38;5;241;43m=\u001b[39;49m\u001b[43msplit_special_tokens\u001b[49m\u001b[43m,\u001b[49m\n\u001b[1;32m   3123\u001b[0m \u001b[43m        \u001b[49m\u001b[38;5;241;43m*\u001b[39;49m\u001b[38;5;241;43m*\u001b[39;49m\u001b[43mkwargs\u001b[49m\u001b[43m,\u001b[49m\n\u001b[1;32m   3124\u001b[0m \u001b[43m    \u001b[49m\u001b[43m)\u001b[49m\n\u001b[1;32m   3125\u001b[0m \u001b[38;5;28;01melse\u001b[39;00m:\n\u001b[1;32m   3126\u001b[0m     \u001b[38;5;28;01mreturn\u001b[39;00m \u001b[38;5;28mself\u001b[39m\u001b[38;5;241m.\u001b[39mencode_plus(\n\u001b[1;32m   3127\u001b[0m         text\u001b[38;5;241m=\u001b[39mtext,\n\u001b[1;32m   3128\u001b[0m         text_pair\u001b[38;5;241m=\u001b[39mtext_pair,\n\u001b[0;32m   (...)\u001b[0m\n\u001b[1;32m   3146\u001b[0m         \u001b[38;5;241m*\u001b[39m\u001b[38;5;241m*\u001b[39mkwargs,\n\u001b[1;32m   3147\u001b[0m     )\n",
      "File \u001b[0;32m~/fyp/Sentence_Token_Decoder/.venv/lib/python3.10/site-packages/transformers/tokenization_utils_base.py:3306\u001b[0m, in \u001b[0;36mPreTrainedTokenizerBase.batch_encode_plus\u001b[0;34m(self, batch_text_or_text_pairs, add_special_tokens, padding, truncation, max_length, stride, is_split_into_words, pad_to_multiple_of, padding_side, return_tensors, return_token_type_ids, return_attention_mask, return_overflowing_tokens, return_special_tokens_mask, return_offsets_mapping, return_length, verbose, split_special_tokens, **kwargs)\u001b[0m\n\u001b[1;32m   3296\u001b[0m \u001b[38;5;66;03m# Backward compatibility for 'truncation_strategy', 'pad_to_max_length'\u001b[39;00m\n\u001b[1;32m   3297\u001b[0m padding_strategy, truncation_strategy, max_length, kwargs \u001b[38;5;241m=\u001b[39m \u001b[38;5;28mself\u001b[39m\u001b[38;5;241m.\u001b[39m_get_padding_truncation_strategies(\n\u001b[1;32m   3298\u001b[0m     padding\u001b[38;5;241m=\u001b[39mpadding,\n\u001b[1;32m   3299\u001b[0m     truncation\u001b[38;5;241m=\u001b[39mtruncation,\n\u001b[0;32m   (...)\u001b[0m\n\u001b[1;32m   3303\u001b[0m     \u001b[38;5;241m*\u001b[39m\u001b[38;5;241m*\u001b[39mkwargs,\n\u001b[1;32m   3304\u001b[0m )\n\u001b[0;32m-> 3306\u001b[0m \u001b[38;5;28;01mreturn\u001b[39;00m \u001b[38;5;28;43mself\u001b[39;49m\u001b[38;5;241;43m.\u001b[39;49m\u001b[43m_batch_encode_plus\u001b[49m\u001b[43m(\u001b[49m\n\u001b[1;32m   3307\u001b[0m \u001b[43m    \u001b[49m\u001b[43mbatch_text_or_text_pairs\u001b[49m\u001b[38;5;241;43m=\u001b[39;49m\u001b[43mbatch_text_or_text_pairs\u001b[49m\u001b[43m,\u001b[49m\n\u001b[1;32m   3308\u001b[0m \u001b[43m    \u001b[49m\u001b[43madd_special_tokens\u001b[49m\u001b[38;5;241;43m=\u001b[39;49m\u001b[43madd_special_tokens\u001b[49m\u001b[43m,\u001b[49m\n\u001b[1;32m   3309\u001b[0m \u001b[43m    \u001b[49m\u001b[43mpadding_strategy\u001b[49m\u001b[38;5;241;43m=\u001b[39;49m\u001b[43mpadding_strategy\u001b[49m\u001b[43m,\u001b[49m\n\u001b[1;32m   3310\u001b[0m \u001b[43m    \u001b[49m\u001b[43mtruncation_strategy\u001b[49m\u001b[38;5;241;43m=\u001b[39;49m\u001b[43mtruncation_strategy\u001b[49m\u001b[43m,\u001b[49m\n\u001b[1;32m   3311\u001b[0m \u001b[43m    \u001b[49m\u001b[43mmax_length\u001b[49m\u001b[38;5;241;43m=\u001b[39;49m\u001b[43mmax_length\u001b[49m\u001b[43m,\u001b[49m\n\u001b[1;32m   3312\u001b[0m \u001b[43m    \u001b[49m\u001b[43mstride\u001b[49m\u001b[38;5;241;43m=\u001b[39;49m\u001b[43mstride\u001b[49m\u001b[43m,\u001b[49m\n\u001b[1;32m   3313\u001b[0m \u001b[43m    \u001b[49m\u001b[43mis_split_into_words\u001b[49m\u001b[38;5;241;43m=\u001b[39;49m\u001b[43mis_split_into_words\u001b[49m\u001b[43m,\u001b[49m\n\u001b[1;32m   3314\u001b[0m \u001b[43m    \u001b[49m\u001b[43mpad_to_multiple_of\u001b[49m\u001b[38;5;241;43m=\u001b[39;49m\u001b[43mpad_to_multiple_of\u001b[49m\u001b[43m,\u001b[49m\n\u001b[1;32m   3315\u001b[0m \u001b[43m    \u001b[49m\u001b[43mpadding_side\u001b[49m\u001b[38;5;241;43m=\u001b[39;49m\u001b[43mpadding_side\u001b[49m\u001b[43m,\u001b[49m\n\u001b[1;32m   3316\u001b[0m \u001b[43m    \u001b[49m\u001b[43mreturn_tensors\u001b[49m\u001b[38;5;241;43m=\u001b[39;49m\u001b[43mreturn_tensors\u001b[49m\u001b[43m,\u001b[49m\n\u001b[1;32m   3317\u001b[0m \u001b[43m    \u001b[49m\u001b[43mreturn_token_type_ids\u001b[49m\u001b[38;5;241;43m=\u001b[39;49m\u001b[43mreturn_token_type_ids\u001b[49m\u001b[43m,\u001b[49m\n\u001b[1;32m   3318\u001b[0m \u001b[43m    \u001b[49m\u001b[43mreturn_attention_mask\u001b[49m\u001b[38;5;241;43m=\u001b[39;49m\u001b[43mreturn_attention_mask\u001b[49m\u001b[43m,\u001b[49m\n\u001b[1;32m   3319\u001b[0m \u001b[43m    \u001b[49m\u001b[43mreturn_overflowing_tokens\u001b[49m\u001b[38;5;241;43m=\u001b[39;49m\u001b[43mreturn_overflowing_tokens\u001b[49m\u001b[43m,\u001b[49m\n\u001b[1;32m   3320\u001b[0m \u001b[43m    \u001b[49m\u001b[43mreturn_special_tokens_mask\u001b[49m\u001b[38;5;241;43m=\u001b[39;49m\u001b[43mreturn_special_tokens_mask\u001b[49m\u001b[43m,\u001b[49m\n\u001b[1;32m   3321\u001b[0m \u001b[43m    \u001b[49m\u001b[43mreturn_offsets_mapping\u001b[49m\u001b[38;5;241;43m=\u001b[39;49m\u001b[43mreturn_offsets_mapping\u001b[49m\u001b[43m,\u001b[49m\n\u001b[1;32m   3322\u001b[0m \u001b[43m    \u001b[49m\u001b[43mreturn_length\u001b[49m\u001b[38;5;241;43m=\u001b[39;49m\u001b[43mreturn_length\u001b[49m\u001b[43m,\u001b[49m\n\u001b[1;32m   3323\u001b[0m \u001b[43m    \u001b[49m\u001b[43mverbose\u001b[49m\u001b[38;5;241;43m=\u001b[39;49m\u001b[43mverbose\u001b[49m\u001b[43m,\u001b[49m\n\u001b[1;32m   3324\u001b[0m \u001b[43m    \u001b[49m\u001b[43msplit_special_tokens\u001b[49m\u001b[38;5;241;43m=\u001b[39;49m\u001b[43msplit_special_tokens\u001b[49m\u001b[43m,\u001b[49m\n\u001b[1;32m   3325\u001b[0m \u001b[43m    \u001b[49m\u001b[38;5;241;43m*\u001b[39;49m\u001b[38;5;241;43m*\u001b[39;49m\u001b[43mkwargs\u001b[49m\u001b[43m,\u001b[49m\n\u001b[1;32m   3326\u001b[0m \u001b[43m\u001b[49m\u001b[43m)\u001b[49m\n",
      "File \u001b[0;32m~/fyp/Sentence_Token_Decoder/.venv/lib/python3.10/site-packages/transformers/tokenization_utils_fast.py:577\u001b[0m, in \u001b[0;36mPreTrainedTokenizerFast._batch_encode_plus\u001b[0;34m(self, batch_text_or_text_pairs, add_special_tokens, padding_strategy, truncation_strategy, max_length, stride, is_split_into_words, pad_to_multiple_of, padding_side, return_tensors, return_token_type_ids, return_attention_mask, return_overflowing_tokens, return_special_tokens_mask, return_offsets_mapping, return_length, verbose, split_special_tokens)\u001b[0m\n\u001b[1;32m    575\u001b[0m \u001b[38;5;28;01mfor\u001b[39;00m input_ids \u001b[38;5;129;01min\u001b[39;00m sanitized_tokens[\u001b[38;5;124m\"\u001b[39m\u001b[38;5;124minput_ids\u001b[39m\u001b[38;5;124m\"\u001b[39m]:\n\u001b[1;32m    576\u001b[0m     \u001b[38;5;28mself\u001b[39m\u001b[38;5;241m.\u001b[39m_eventual_warn_about_too_long_sequence(input_ids, max_length, verbose)\n\u001b[0;32m--> 577\u001b[0m \u001b[38;5;28;01mreturn\u001b[39;00m \u001b[43mBatchEncoding\u001b[49m\u001b[43m(\u001b[49m\u001b[43msanitized_tokens\u001b[49m\u001b[43m,\u001b[49m\u001b[43m \u001b[49m\u001b[43msanitized_encodings\u001b[49m\u001b[43m,\u001b[49m\u001b[43m \u001b[49m\u001b[43mtensor_type\u001b[49m\u001b[38;5;241;43m=\u001b[39;49m\u001b[43mreturn_tensors\u001b[49m\u001b[43m)\u001b[49m\n",
      "File \u001b[0;32m~/fyp/Sentence_Token_Decoder/.venv/lib/python3.10/site-packages/transformers/tokenization_utils_base.py:240\u001b[0m, in \u001b[0;36mBatchEncoding.__init__\u001b[0;34m(self, data, encoding, tensor_type, prepend_batch_axis, n_sequences)\u001b[0m\n\u001b[1;32m    236\u001b[0m     n_sequences \u001b[38;5;241m=\u001b[39m encoding[\u001b[38;5;241m0\u001b[39m]\u001b[38;5;241m.\u001b[39mn_sequences\n\u001b[1;32m    238\u001b[0m \u001b[38;5;28mself\u001b[39m\u001b[38;5;241m.\u001b[39m_n_sequences \u001b[38;5;241m=\u001b[39m n_sequences\n\u001b[0;32m--> 240\u001b[0m \u001b[38;5;28;43mself\u001b[39;49m\u001b[38;5;241;43m.\u001b[39;49m\u001b[43mconvert_to_tensors\u001b[49m\u001b[43m(\u001b[49m\u001b[43mtensor_type\u001b[49m\u001b[38;5;241;43m=\u001b[39;49m\u001b[43mtensor_type\u001b[49m\u001b[43m,\u001b[49m\u001b[43m \u001b[49m\u001b[43mprepend_batch_axis\u001b[49m\u001b[38;5;241;43m=\u001b[39;49m\u001b[43mprepend_batch_axis\u001b[49m\u001b[43m)\u001b[49m\n",
      "File \u001b[0;32m~/fyp/Sentence_Token_Decoder/.venv/lib/python3.10/site-packages/transformers/tokenization_utils_base.py:775\u001b[0m, in \u001b[0;36mBatchEncoding.convert_to_tensors\u001b[0;34m(self, tensor_type, prepend_batch_axis)\u001b[0m\n\u001b[1;32m    772\u001b[0m     value \u001b[38;5;241m=\u001b[39m [value]\n\u001b[1;32m    774\u001b[0m \u001b[38;5;28;01mif\u001b[39;00m \u001b[38;5;129;01mnot\u001b[39;00m is_tensor(value):\n\u001b[0;32m--> 775\u001b[0m     tensor \u001b[38;5;241m=\u001b[39m \u001b[43mas_tensor\u001b[49m\u001b[43m(\u001b[49m\u001b[43mvalue\u001b[49m\u001b[43m)\u001b[49m\n\u001b[1;32m    777\u001b[0m     \u001b[38;5;66;03m# Removing this for now in favor of controlling the shape with `prepend_batch_axis`\u001b[39;00m\n\u001b[1;32m    778\u001b[0m     \u001b[38;5;66;03m# # at-least2d\u001b[39;00m\n\u001b[1;32m    779\u001b[0m     \u001b[38;5;66;03m# if tensor.ndim > 2:\u001b[39;00m\n\u001b[1;32m    780\u001b[0m     \u001b[38;5;66;03m#     tensor = tensor.squeeze(0)\u001b[39;00m\n\u001b[1;32m    781\u001b[0m     \u001b[38;5;66;03m# elif tensor.ndim < 2:\u001b[39;00m\n\u001b[1;32m    782\u001b[0m     \u001b[38;5;66;03m#     tensor = tensor[None, :]\u001b[39;00m\n\u001b[1;32m    784\u001b[0m     \u001b[38;5;28mself\u001b[39m[key] \u001b[38;5;241m=\u001b[39m tensor\n",
      "File \u001b[0;32m~/fyp/Sentence_Token_Decoder/.venv/lib/python3.10/site-packages/transformers/tokenization_utils_base.py:737\u001b[0m, in \u001b[0;36mBatchEncoding.convert_to_tensors.<locals>.as_tensor\u001b[0;34m(value, dtype)\u001b[0m\n\u001b[1;32m    735\u001b[0m \u001b[38;5;28;01mif\u001b[39;00m \u001b[38;5;28misinstance\u001b[39m(value, \u001b[38;5;28mlist\u001b[39m) \u001b[38;5;129;01mand\u001b[39;00m \u001b[38;5;28misinstance\u001b[39m(value[\u001b[38;5;241m0\u001b[39m], np\u001b[38;5;241m.\u001b[39mndarray):\n\u001b[1;32m    736\u001b[0m     \u001b[38;5;28;01mreturn\u001b[39;00m torch\u001b[38;5;241m.\u001b[39mfrom_numpy(np\u001b[38;5;241m.\u001b[39marray(value))\n\u001b[0;32m--> 737\u001b[0m \u001b[38;5;28;01mreturn\u001b[39;00m \u001b[43mtorch\u001b[49m\u001b[38;5;241;43m.\u001b[39;49m\u001b[43mtensor\u001b[49m\u001b[43m(\u001b[49m\u001b[43mvalue\u001b[49m\u001b[43m)\u001b[49m\n",
      "\u001b[0;31mKeyboardInterrupt\u001b[0m: "
     ]
    }
   ],
   "source": [
    "train(amodel,math_train_loader,math_test_loader,optimizer,criterion)"
   ]
  }
 ],
 "metadata": {
  "kaggle": {
   "accelerator": "gpu",
   "dataSources": [],
   "dockerImageVersionId": 30788,
   "isGpuEnabled": true,
   "isInternetEnabled": true,
   "language": "python",
   "sourceType": "notebook"
  },
  "kernelspec": {
   "display_name": ".venv",
   "language": "python",
   "name": "python3"
  },
  "language_info": {
   "codemirror_mode": {
    "name": "ipython",
    "version": 3
   },
   "file_extension": ".py",
   "mimetype": "text/x-python",
   "name": "python",
   "nbconvert_exporter": "python",
   "pygments_lexer": "ipython3",
   "version": "3.10.12"
  }
 },
 "nbformat": 4,
 "nbformat_minor": 4
}
