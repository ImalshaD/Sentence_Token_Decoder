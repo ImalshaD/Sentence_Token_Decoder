{
 "cells": [
  {
   "cell_type": "code",
   "execution_count": 23,
   "metadata": {},
   "outputs": [],
   "source": [
    "from NitMultilingualEncoders import NitQwenMathInstruct, NitMT5encoder, NitRobertaencoder"
   ]
  },
  {
   "cell_type": "code",
   "execution_count": 24,
   "metadata": {},
   "outputs": [],
   "source": [
    "from AlignmentModels import Conv1dAutoencoder, CNN1DRBencoder"
   ]
  },
  {
   "cell_type": "code",
   "execution_count": 25,
   "metadata": {},
   "outputs": [],
   "source": [
    "import torch"
   ]
  },
  {
   "cell_type": "code",
   "execution_count": 26,
   "metadata": {},
   "outputs": [],
   "source": [
    "def load_model(model, filename='model.pth'):\n",
    "    state_dict = torch.load(filename, weights_only=True)\n",
    "    new_state_dict = {k.replace('module.', ''): v for k, v in state_dict.items()}\n",
    "    model.load_state_dict(new_state_dict)\n",
    "    model.eval()  # Set the model to evaluation mode\n",
    "    print(f\"Model loaded from {filename}\")"
   ]
  },
  {
   "cell_type": "code",
   "execution_count": 27,
   "metadata": {},
   "outputs": [],
   "source": [
    "model_dir = \"model_cache\""
   ]
  },
  {
   "cell_type": "code",
   "execution_count": 28,
   "metadata": {},
   "outputs": [],
   "source": [
    "max_tokens = 100\n",
    "padding = \"max_length\""
   ]
  },
  {
   "cell_type": "code",
   "execution_count": 29,
   "metadata": {},
   "outputs": [],
   "source": [
    "qwen_template = \"<|im_start|>{text}<|im_end|>\""
   ]
  },
  {
   "cell_type": "code",
   "execution_count": 30,
   "metadata": {},
   "outputs": [],
   "source": [
    "qwen = NitQwenMathInstruct(cache_dir=model_dir, max_tokens=max_tokens, padding=padding)\n",
    "qwen.setTemplate(qwen_template)"
   ]
  },
  {
   "cell_type": "code",
   "execution_count": 31,
   "metadata": {},
   "outputs": [
    {
     "name": "stderr",
     "output_type": "stream",
     "text": [
      "Some weights of RobertaModel were not initialized from the model checkpoint at FacebookAI/roberta-base and are newly initialized: ['roberta.pooler.dense.bias', 'roberta.pooler.dense.weight']\n",
      "You should probably TRAIN this model on a down-stream task to be able to use it for predictions and inference.\n"
     ]
    }
   ],
   "source": [
    "rb = NitRobertaencoder(cache_dir=model_dir, max_tokens=max_tokens, padding=padding)"
   ]
  },
  {
   "cell_type": "code",
   "execution_count": 32,
   "metadata": {},
   "outputs": [],
   "source": [
    "rb_embedding_shape = rb.getEmbedding_shape()\n",
    "qwen_embedding_shape = qwen.getEmbedding_shape()"
   ]
  },
  {
   "cell_type": "code",
   "execution_count": 33,
   "metadata": {},
   "outputs": [
    {
     "data": {
      "text/plain": [
       "((100, 768), (100, 1536))"
      ]
     },
     "execution_count": 33,
     "metadata": {},
     "output_type": "execute_result"
    }
   ],
   "source": [
    "rb_embedding_shape, qwen_embedding_shape"
   ]
  },
  {
   "cell_type": "code",
   "execution_count": 34,
   "metadata": {},
   "outputs": [],
   "source": [
    "device = torch.device(\"cuda\" if torch.cuda.is_available() else \"cpu\")"
   ]
  },
  {
   "cell_type": "code",
   "execution_count": 35,
   "metadata": {},
   "outputs": [],
   "source": [
    "alignment_model = CNN1DRBencoder(rb_embedding_shape, qwen_embedding_shape).to(device)"
   ]
  },
  {
   "cell_type": "code",
   "execution_count": 36,
   "metadata": {},
   "outputs": [
    {
     "name": "stdout",
     "output_type": "stream",
     "text": [
      "Model loaded from qwen_rb.pth\n"
     ]
    }
   ],
   "source": [
    "load_model(alignment_model, \"qwen_rb.pth\")"
   ]
  },
  {
   "cell_type": "code",
   "execution_count": 142,
   "metadata": {},
   "outputs": [],
   "source": [
    "test_texts = [\"There were nine computers in the server room. Five more computers were installed each day, from monday to thursday. How many computers are now in the server room?\"]"
   ]
  },
  {
   "cell_type": "code",
   "execution_count": 143,
   "metadata": {},
   "outputs": [],
   "source": [
    "original_embeddings = qwen.get_embeddings_from_text(test_texts)"
   ]
  },
  {
   "cell_type": "code",
   "execution_count": 144,
   "metadata": {},
   "outputs": [],
   "source": [
    "rb_embeddings = rb.get_embeddings_from_text(test_texts)"
   ]
  },
  {
   "cell_type": "code",
   "execution_count": 145,
   "metadata": {},
   "outputs": [],
   "source": [
    "altered_embeddings = alignment_model(rb_embeddings.input_embeds)"
   ]
  },
  {
   "cell_type": "code",
   "execution_count": 146,
   "metadata": {},
   "outputs": [
    {
     "data": {
      "text/plain": [
       "[' on Monday, Tuesday, Wednesday, and Thursday, 5 more computers are installed each day. Therefore, the total number of computers installed from Monday to Thursday is:\\n\\\\[ 5 \\\\times 4 = 20 \\\\]\\n\\nAdding the initial number of computers to the total number of computers installed gives:\\n\\\\[ 9 + 20 = 29 \\\\]\\n\\nSo, the total number of computers now in the server room is:\\n\\\\[ \\\\boxed{29} \\\\]']"
      ]
     },
     "execution_count": 146,
     "metadata": {},
     "output_type": "execute_result"
    }
   ],
   "source": [
    "qwen.get_generation(original_embeddings)"
   ]
  },
  {
   "cell_type": "code",
   "execution_count": 147,
   "metadata": {},
   "outputs": [],
   "source": [
    "rb_embeddings.input_embeds = altered_embeddings"
   ]
  },
  {
   "cell_type": "code",
   "execution_count": 148,
   "metadata": {},
   "outputs": [
    {
     "data": {
      "text/plain": [
       "[\" added\\nTo determine the total number of birds in the game box after a certain number of days, we need to follow these steps:\\n\\n1. Identify the initial number of birds in the game box.\\n2. Determine the number of birds added each day.\\n3. Calculate the total number of birds added over the specified period.\\n4. Add the initial number of birds to the total number of birds added.\\n\\nLet's go through each step in detail:\\n\\n1. **Initial number of birds:**\\n   The game box initially contains 6 birds.\\n\\n2. **Number of birds added each day:**\\n   Each day, 5 more birds are added to the game box.\\n\\n3. **Period of time:**\\n   The addition of birds starts from Friday and continues through to the next Wednesday. This period includes:\\n   - Friday\\n   - Saturday\\n   - Sunday\\n   - Monday\\n   - Tuesday\\n   - Wednesday\\n\\n   Therefore, the total number of days is 6 days.\\n\\n4. **Total number of birds added:**\\n   Since 5 birds are added each day for 6 days, we calculate the total number of birds added as follows:\\n   \\\\[\\n   5 \\\\text{ birds/day} \\\\times 6 \\\\text{ days} = 30 \\\\text{ birds}\\n   \\\\]\\n\\n5. **Total number of birds in the game box:**\\n   Adding the initial number of birds to the total number of birds added:\\n   \\\\[\\n   6 \\\\text{ initial birds} + 30 \\\\text{ added birds} = 36 \\\\text{ birds}\\n   \\\\]\\n\\nThus, the total number of birds now in the game box is \\\\(\\\\boxed{36}\\\\).\"]"
      ]
     },
     "execution_count": 148,
     "metadata": {},
     "output_type": "execute_result"
    }
   ],
   "source": [
    "qwen.get_generation(rb_embeddings)"
   ]
  }
 ],
 "metadata": {
  "kernelspec": {
   "display_name": ".venv",
   "language": "python",
   "name": "python3"
  },
  "language_info": {
   "codemirror_mode": {
    "name": "ipython",
    "version": 3
   },
   "file_extension": ".py",
   "mimetype": "text/x-python",
   "name": "python",
   "nbconvert_exporter": "python",
   "pygments_lexer": "ipython3",
   "version": "3.10.12"
  }
 },
 "nbformat": 4,
 "nbformat_minor": 2
}
